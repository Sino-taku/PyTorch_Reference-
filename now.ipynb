{
  "nbformat": 4,
  "nbformat_minor": 0,
  "metadata": {
    "colab": {
      "name": "now.ipynb",
      "provenance": [],
      "authorship_tag": "ABX9TyOT3Q6IQIawIQP9mQzLwhgz",
      "include_colab_link": true
    },
    "kernelspec": {
      "name": "python3",
      "display_name": "Python 3"
    },
    "language_info": {
      "name": "python"
    }
  },
  "cells": [
    {
      "cell_type": "markdown",
      "metadata": {
        "id": "view-in-github",
        "colab_type": "text"
      },
      "source": [
        "<a href=\"https://colab.research.google.com/github/Sino-taku/PyTorch_Reference-/blob/main/now.ipynb\" target=\"_parent\"><img src=\"https://colab.research.google.com/assets/colab-badge.svg\" alt=\"Open In Colab\"/></a>"
      ]
    },
    {
      "cell_type": "code",
      "execution_count": 43,
      "metadata": {
        "colab": {
          "base_uri": "https://localhost:8080/"
        },
        "id": "xixnt_A8jsej",
        "outputId": "7099ab48-0721-40b4-c107-55ba3d08e4ba"
      },
      "outputs": [
        {
          "output_type": "stream",
          "name": "stdout",
          "text": [
            "Drive already mounted at /content/drive; to attempt to forcibly remount, call drive.mount(\"/content/drive\", force_remount=True).\n"
          ]
        }
      ],
      "source": [
        "#マウントする\n",
        "from google.colab import drive\n",
        "drive.mount('/content/drive')"
      ]
    },
    {
      "cell_type": "code",
      "source": [
        "import os"
      ],
      "metadata": {
        "id": "CFqhr5JNl0ms"
      },
      "execution_count": 44,
      "outputs": []
    },
    {
      "cell_type": "code",
      "source": [
        "#カレントディレクトリの確認（絶対パス）\n",
        "\n",
        "os.getcwd()"
      ],
      "metadata": {
        "colab": {
          "base_uri": "https://localhost:8080/",
          "height": 35
        },
        "id": "qdBsC8ytkxwl",
        "outputId": "d5ae693b-7db1-46e2-b309-7d7e7c727782"
      },
      "execution_count": 45,
      "outputs": [
        {
          "output_type": "execute_result",
          "data": {
            "text/plain": [
              "'/content'"
            ],
            "application/vnd.google.colaboratory.intrinsic+json": {
              "type": "string"
            }
          },
          "metadata": {},
          "execution_count": 45
        }
      ]
    },
    {
      "cell_type": "code",
      "source": [
        "#データの取得と内容の確認（head)\n",
        "import pandas as pd\n",
        "df_AFM=pd.read_csv(\"/content/drive/MyDrive/AFM/AFM1024.csv\")\n",
        "\n",
        "#データフレームにする             \n",
        "\"\"\"\n",
        "#インデックスの作成・変更\n",
        "index_line=[]\n",
        "for i in range(1024):\n",
        "  ind=\"line_\"+str(i)\n",
        "  index_line.append(ind)\n",
        "\"\"\"\n",
        "df_AFM=pd.DataFrame(data=df_AFM)\n",
        "df_AFM.head()"
      ],
      "metadata": {
        "colab": {
          "base_uri": "https://localhost:8080/",
          "height": 236
        },
        "id": "VIWwI6CbkIMf",
        "outputId": "4f874a9e-a223-4454-aa35-db9e5c2a445a"
      },
      "execution_count": 49,
      "outputs": [
        {
          "output_type": "execute_result",
          "data": {
            "text/plain": [
              "      1     2     3     4     5     6     7     8     9    10  ...  1015  \\\n",
              "0  29.8  29.8  29.7  29.6  29.6  29.5  29.4  29.4  29.4  29.4  ...  33.1   \n",
              "1  30.3  30.3  30.3  30.3  30.3  30.3  30.3  30.2  30.2  30.2  ...  33.9   \n",
              "2  30.7  30.8  30.9  30.9  30.9  30.9  30.8  30.8  30.8  30.7  ...  34.3   \n",
              "3  30.8  30.9  30.9  30.9  31.0  31.0  30.9  30.9  30.9  30.9  ...  33.8   \n",
              "4  29.7  29.8  29.8  29.9  29.8  29.9  29.8  29.8  29.8  29.8  ...  33.9   \n",
              "\n",
              "   1016  1017  1018  1019  1020  1021  1022  1023  1024  \n",
              "0  33.1  33.1  33.2  33.2  33.2  33.2  33.2  33.2  33.2  \n",
              "1  33.9  33.9  33.9  34.0  34.0  34.1  34.1  34.1  34.2  \n",
              "2  34.3  34.3  34.4  34.3  34.4  34.4  34.5  34.5  34.6  \n",
              "3  33.8  33.9  33.9  33.9  33.9  33.9  33.9  33.9  33.9  \n",
              "4  33.9  34.0  34.0  34.1  34.1  34.1  34.2  34.3  34.3  \n",
              "\n",
              "[5 rows x 1024 columns]"
            ],
            "text/html": [
              "\n",
              "  <div id=\"df-c98df813-b1cc-4618-a18b-acddd7cd7782\">\n",
              "    <div class=\"colab-df-container\">\n",
              "      <div>\n",
              "<style scoped>\n",
              "    .dataframe tbody tr th:only-of-type {\n",
              "        vertical-align: middle;\n",
              "    }\n",
              "\n",
              "    .dataframe tbody tr th {\n",
              "        vertical-align: top;\n",
              "    }\n",
              "\n",
              "    .dataframe thead th {\n",
              "        text-align: right;\n",
              "    }\n",
              "</style>\n",
              "<table border=\"1\" class=\"dataframe\">\n",
              "  <thead>\n",
              "    <tr style=\"text-align: right;\">\n",
              "      <th></th>\n",
              "      <th>1</th>\n",
              "      <th>2</th>\n",
              "      <th>3</th>\n",
              "      <th>4</th>\n",
              "      <th>5</th>\n",
              "      <th>6</th>\n",
              "      <th>7</th>\n",
              "      <th>8</th>\n",
              "      <th>9</th>\n",
              "      <th>10</th>\n",
              "      <th>...</th>\n",
              "      <th>1015</th>\n",
              "      <th>1016</th>\n",
              "      <th>1017</th>\n",
              "      <th>1018</th>\n",
              "      <th>1019</th>\n",
              "      <th>1020</th>\n",
              "      <th>1021</th>\n",
              "      <th>1022</th>\n",
              "      <th>1023</th>\n",
              "      <th>1024</th>\n",
              "    </tr>\n",
              "  </thead>\n",
              "  <tbody>\n",
              "    <tr>\n",
              "      <th>0</th>\n",
              "      <td>29.8</td>\n",
              "      <td>29.8</td>\n",
              "      <td>29.7</td>\n",
              "      <td>29.6</td>\n",
              "      <td>29.6</td>\n",
              "      <td>29.5</td>\n",
              "      <td>29.4</td>\n",
              "      <td>29.4</td>\n",
              "      <td>29.4</td>\n",
              "      <td>29.4</td>\n",
              "      <td>...</td>\n",
              "      <td>33.1</td>\n",
              "      <td>33.1</td>\n",
              "      <td>33.1</td>\n",
              "      <td>33.2</td>\n",
              "      <td>33.2</td>\n",
              "      <td>33.2</td>\n",
              "      <td>33.2</td>\n",
              "      <td>33.2</td>\n",
              "      <td>33.2</td>\n",
              "      <td>33.2</td>\n",
              "    </tr>\n",
              "    <tr>\n",
              "      <th>1</th>\n",
              "      <td>30.3</td>\n",
              "      <td>30.3</td>\n",
              "      <td>30.3</td>\n",
              "      <td>30.3</td>\n",
              "      <td>30.3</td>\n",
              "      <td>30.3</td>\n",
              "      <td>30.3</td>\n",
              "      <td>30.2</td>\n",
              "      <td>30.2</td>\n",
              "      <td>30.2</td>\n",
              "      <td>...</td>\n",
              "      <td>33.9</td>\n",
              "      <td>33.9</td>\n",
              "      <td>33.9</td>\n",
              "      <td>33.9</td>\n",
              "      <td>34.0</td>\n",
              "      <td>34.0</td>\n",
              "      <td>34.1</td>\n",
              "      <td>34.1</td>\n",
              "      <td>34.1</td>\n",
              "      <td>34.2</td>\n",
              "    </tr>\n",
              "    <tr>\n",
              "      <th>2</th>\n",
              "      <td>30.7</td>\n",
              "      <td>30.8</td>\n",
              "      <td>30.9</td>\n",
              "      <td>30.9</td>\n",
              "      <td>30.9</td>\n",
              "      <td>30.9</td>\n",
              "      <td>30.8</td>\n",
              "      <td>30.8</td>\n",
              "      <td>30.8</td>\n",
              "      <td>30.7</td>\n",
              "      <td>...</td>\n",
              "      <td>34.3</td>\n",
              "      <td>34.3</td>\n",
              "      <td>34.3</td>\n",
              "      <td>34.4</td>\n",
              "      <td>34.3</td>\n",
              "      <td>34.4</td>\n",
              "      <td>34.4</td>\n",
              "      <td>34.5</td>\n",
              "      <td>34.5</td>\n",
              "      <td>34.6</td>\n",
              "    </tr>\n",
              "    <tr>\n",
              "      <th>3</th>\n",
              "      <td>30.8</td>\n",
              "      <td>30.9</td>\n",
              "      <td>30.9</td>\n",
              "      <td>30.9</td>\n",
              "      <td>31.0</td>\n",
              "      <td>31.0</td>\n",
              "      <td>30.9</td>\n",
              "      <td>30.9</td>\n",
              "      <td>30.9</td>\n",
              "      <td>30.9</td>\n",
              "      <td>...</td>\n",
              "      <td>33.8</td>\n",
              "      <td>33.8</td>\n",
              "      <td>33.9</td>\n",
              "      <td>33.9</td>\n",
              "      <td>33.9</td>\n",
              "      <td>33.9</td>\n",
              "      <td>33.9</td>\n",
              "      <td>33.9</td>\n",
              "      <td>33.9</td>\n",
              "      <td>33.9</td>\n",
              "    </tr>\n",
              "    <tr>\n",
              "      <th>4</th>\n",
              "      <td>29.7</td>\n",
              "      <td>29.8</td>\n",
              "      <td>29.8</td>\n",
              "      <td>29.9</td>\n",
              "      <td>29.8</td>\n",
              "      <td>29.9</td>\n",
              "      <td>29.8</td>\n",
              "      <td>29.8</td>\n",
              "      <td>29.8</td>\n",
              "      <td>29.8</td>\n",
              "      <td>...</td>\n",
              "      <td>33.9</td>\n",
              "      <td>33.9</td>\n",
              "      <td>34.0</td>\n",
              "      <td>34.0</td>\n",
              "      <td>34.1</td>\n",
              "      <td>34.1</td>\n",
              "      <td>34.1</td>\n",
              "      <td>34.2</td>\n",
              "      <td>34.3</td>\n",
              "      <td>34.3</td>\n",
              "    </tr>\n",
              "  </tbody>\n",
              "</table>\n",
              "<p>5 rows × 1024 columns</p>\n",
              "</div>\n",
              "      <button class=\"colab-df-convert\" onclick=\"convertToInteractive('df-c98df813-b1cc-4618-a18b-acddd7cd7782')\"\n",
              "              title=\"Convert this dataframe to an interactive table.\"\n",
              "              style=\"display:none;\">\n",
              "        \n",
              "  <svg xmlns=\"http://www.w3.org/2000/svg\" height=\"24px\"viewBox=\"0 0 24 24\"\n",
              "       width=\"24px\">\n",
              "    <path d=\"M0 0h24v24H0V0z\" fill=\"none\"/>\n",
              "    <path d=\"M18.56 5.44l.94 2.06.94-2.06 2.06-.94-2.06-.94-.94-2.06-.94 2.06-2.06.94zm-11 1L8.5 8.5l.94-2.06 2.06-.94-2.06-.94L8.5 2.5l-.94 2.06-2.06.94zm10 10l.94 2.06.94-2.06 2.06-.94-2.06-.94-.94-2.06-.94 2.06-2.06.94z\"/><path d=\"M17.41 7.96l-1.37-1.37c-.4-.4-.92-.59-1.43-.59-.52 0-1.04.2-1.43.59L10.3 9.45l-7.72 7.72c-.78.78-.78 2.05 0 2.83L4 21.41c.39.39.9.59 1.41.59.51 0 1.02-.2 1.41-.59l7.78-7.78 2.81-2.81c.8-.78.8-2.07 0-2.86zM5.41 20L4 18.59l7.72-7.72 1.47 1.35L5.41 20z\"/>\n",
              "  </svg>\n",
              "      </button>\n",
              "      \n",
              "  <style>\n",
              "    .colab-df-container {\n",
              "      display:flex;\n",
              "      flex-wrap:wrap;\n",
              "      gap: 12px;\n",
              "    }\n",
              "\n",
              "    .colab-df-convert {\n",
              "      background-color: #E8F0FE;\n",
              "      border: none;\n",
              "      border-radius: 50%;\n",
              "      cursor: pointer;\n",
              "      display: none;\n",
              "      fill: #1967D2;\n",
              "      height: 32px;\n",
              "      padding: 0 0 0 0;\n",
              "      width: 32px;\n",
              "    }\n",
              "\n",
              "    .colab-df-convert:hover {\n",
              "      background-color: #E2EBFA;\n",
              "      box-shadow: 0px 1px 2px rgba(60, 64, 67, 0.3), 0px 1px 3px 1px rgba(60, 64, 67, 0.15);\n",
              "      fill: #174EA6;\n",
              "    }\n",
              "\n",
              "    [theme=dark] .colab-df-convert {\n",
              "      background-color: #3B4455;\n",
              "      fill: #D2E3FC;\n",
              "    }\n",
              "\n",
              "    [theme=dark] .colab-df-convert:hover {\n",
              "      background-color: #434B5C;\n",
              "      box-shadow: 0px 1px 3px 1px rgba(0, 0, 0, 0.15);\n",
              "      filter: drop-shadow(0px 1px 2px rgba(0, 0, 0, 0.3));\n",
              "      fill: #FFFFFF;\n",
              "    }\n",
              "  </style>\n",
              "\n",
              "      <script>\n",
              "        const buttonEl =\n",
              "          document.querySelector('#df-c98df813-b1cc-4618-a18b-acddd7cd7782 button.colab-df-convert');\n",
              "        buttonEl.style.display =\n",
              "          google.colab.kernel.accessAllowed ? 'block' : 'none';\n",
              "\n",
              "        async function convertToInteractive(key) {\n",
              "          const element = document.querySelector('#df-c98df813-b1cc-4618-a18b-acddd7cd7782');\n",
              "          const dataTable =\n",
              "            await google.colab.kernel.invokeFunction('convertToInteractive',\n",
              "                                                     [key], {});\n",
              "          if (!dataTable) return;\n",
              "\n",
              "          const docLinkHtml = 'Like what you see? Visit the ' +\n",
              "            '<a target=\"_blank\" href=https://colab.research.google.com/notebooks/data_table.ipynb>data table notebook</a>'\n",
              "            + ' to learn more about interactive tables.';\n",
              "          element.innerHTML = '';\n",
              "          dataTable['output_type'] = 'display_data';\n",
              "          await google.colab.output.renderOutput(dataTable, element);\n",
              "          const docLink = document.createElement('div');\n",
              "          docLink.innerHTML = docLinkHtml;\n",
              "          element.appendChild(docLink);\n",
              "        }\n",
              "      </script>\n",
              "    </div>\n",
              "  </div>\n",
              "  "
            ]
          },
          "metadata": {},
          "execution_count": 49
        }
      ]
    },
    {
      "cell_type": "code",
      "source": [
        "\n",
        "#リストの多次元構造の作成をして、そのうえでテストデータ（data)、教師データ（target)を作成\n",
        "\n",
        "#テストデータ\n",
        "data = [] \n",
        "for i in range(1023):\n",
        "    data.append([]) \n",
        "    for j in range(300): \n",
        "        data[i].append(df_AFM.loc[j,\"1\":\"300\"]) #テストデータの範囲を1～300でリストの形にする。（出力が大きすぎて拒否られるので出力しないでください）\n",
        "\n",
        "#教師データ\n",
        "target=[]\n",
        "for i in range(1023):\n",
        "    target.append([]) \n",
        "    for j in range(300): \n",
        "        target[i].append(df_AFM.loc[j,\"301\":\"601\"])\n",
        "        \n"
      ],
      "metadata": {
        "colab": {
          "base_uri": "https://localhost:8080/",
          "height": 35
        },
        "id": "aNIhP_zdl9lw",
        "outputId": "cb2c5557-1d93-462a-b7d2-bab7faf40f46"
      },
      "execution_count": 75,
      "outputs": [
        {
          "output_type": "execute_result",
          "data": {
            "text/plain": [
              "'\\n#区切り\\u3000punctuate\\u3000=pun\\npun=500\\nfor i in renge(1024):\\n  test_data_i=[]\\n  ans_data_i=[]\\n  test_data_i[:pun]\\n'"
            ],
            "application/vnd.google.colaboratory.intrinsic+json": {
              "type": "string"
            }
          },
          "metadata": {},
          "execution_count": 75
        }
      ]
    }
  ]
}