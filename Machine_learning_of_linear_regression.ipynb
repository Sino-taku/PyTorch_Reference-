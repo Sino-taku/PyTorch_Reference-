{
  "nbformat": 4,
  "nbformat_minor": 0,
  "metadata": {
    "colab": {
      "name": "Machine learning of linear regression.ipynb",
      "provenance": [],
      "authorship_tag": "ABX9TyNckLptEm1ApiMQXPkmQnIc",
      "include_colab_link": true
    },
    "kernelspec": {
      "name": "python3",
      "display_name": "Python 3"
    },
    "language_info": {
      "name": "python"
    }
  },
  "cells": [
    {
      "cell_type": "markdown",
      "metadata": {
        "id": "view-in-github",
        "colab_type": "text"
      },
      "source": [
        "<a href=\"https://colab.research.google.com/github/Sino-taku/PyTorch_Reference-/blob/main/Machine_learning_of_linear_regression.ipynb\" target=\"_parent\"><img src=\"https://colab.research.google.com/assets/colab-badge.svg\" alt=\"Open In Colab\"/></a>"
      ]
    },
    {
      "cell_type": "code",
      "execution_count": null,
      "metadata": {
        "id": "VXJ9d1yyfscB"
      },
      "outputs": [],
      "source": [
        ""
      ]
    },
    {
      "cell_type": "markdown",
      "source": [
        "#線形回帰\n",
        "\n",
        "今回は「ボストン・データセット」と呼ばれるボストン近郊を506の地域に分割し、それぞれの地域で様々な観点の統計情報を取得している、今回はその中の「住宅平均価格」があり、他の項目から住宅平均価格を予想するという線形回帰を行います。\n",
        "\n",
        "まずは入力項目のうち「平均部屋数」を意味するRMという項目を使って、目的変数に当たる不動産価格を予想する、単回帰と呼ばれるモデルを作ります。\n",
        "予想関数には「線形単回帰」と呼ばれるモデルを作ります。\n",
        "\n",
        "後半では、もう一つ「低所得者率」を意味するLSTATという項目を追加します、２入力１出力のモデルを作ります。このモデルは「重回帰」と呼ばれます。\n"
      ],
      "metadata": {
        "id": "TdZUqx0Cftoa"
      }
    },
    {
      "cell_type": "code",
      "source": [
        "# 必要ライブラリの導入\n",
        "\n",
        "!pip install japanize_matplotlib | tail -n 1\n",
        "!pip install torchviz | tail -n 1\n",
        "!pip install torchinfo | tail -n 1\n",
        "\n",
        "# 必要ライブラリのインポート\n",
        "\n",
        "%matplotlib inline\n",
        "import numpy as np\n",
        "import matplotlib.pyplot as plt\n",
        "import japanize_matplotlib\n",
        "from IPython.display import display\n",
        "\n",
        "import torch\n",
        "import torch.nn as nn\n",
        "import torch.optim as optim\n",
        "from torchviz import make_dot\n",
        "\n",
        "# デフォルトフォントサイズ変更\n",
        "plt.rcParams['font.size'] = 14\n",
        "\n",
        "# デフォルトグラフサイズ変更\n",
        "plt.rcParams['figure.figsize'] = (6,6)\n",
        "\n",
        "# デフォルトで方眼表示ON\n",
        "plt.rcParams['axes.grid'] = True\n",
        "\n",
        "# numpyの浮動小数点の表示精度\n",
        "np.set_printoptions(suppress=True, precision=4)\n"
      ],
      "metadata": {
        "colab": {
          "base_uri": "https://localhost:8080/"
        },
        "id": "IGASaH2jpEiJ",
        "outputId": "570e9a69-1838-49b1-cd05-054da92c9ee5"
      },
      "execution_count": 1,
      "outputs": [
        {
          "output_type": "stream",
          "name": "stdout",
          "text": [
            "Successfully installed japanize-matplotlib-1.1.3\n",
            "Successfully installed torchviz-0.0.2\n",
            "Successfully installed torchinfo-1.6.6\n"
          ]
        }
      ]
    },
    {
      "cell_type": "markdown",
      "source": [
        "#線形関数（nn.Linear)の解説\n",
        "\n",
        "このレイヤー関数はインスタンス生成時、２つの引数をとります。最初の引数は入力テンソルの次元数を次の引数は出力テンソルの次元数を意味します。"
      ],
      "metadata": {
        "id": "AoL3g_imnErk"
      }
    },
    {
      "cell_type": "code",
      "source": [
        "# 乱数の種固定\n",
        "torch.manual_seed(123)\n",
        "\n",
        "# 入力:1 出力:1 の線形関数の定義\n",
        "l1 = nn.Linear(1, 1)\n",
        "\n",
        "# 線形関数の表示\n",
        "print(l1)\n",
        "\n"
      ],
      "metadata": {
        "colab": {
          "base_uri": "https://localhost:8080/"
        },
        "id": "FhNoXmqArLRT",
        "outputId": "44c33d29-6709-48b6-9981-79ecca7cbdeb"
      },
      "execution_count": 2,
      "outputs": [
        {
          "output_type": "stream",
          "name": "stdout",
          "text": [
            "Linear(in_features=1, out_features=1, bias=True)\n"
          ]
        }
      ]
    },
    {
      "cell_type": "markdown",
      "source": [
        "print関数の出力結果で、確かに1入力1出力になっ\n",
        "ています。biasは関数に定数項を含めるかどうかのオプションで、デフォルトではTrueになっています。\n",
        "\n",
        "統計的にnamed_parametersという関数が組み込まれています。\n",
        "この関数を呼び出すと（パラメータ名,パラメータ参照）のリストを返してくれます。\n"
      ],
      "metadata": {
        "id": "GWLWcSqergIi"
      }
    },
    {
      "cell_type": "code",
      "source": [
        "# パラメータ名、パラメータ値、shapeの表示\n",
        "\n",
        "for param in l1.named_parameters():\n",
        "    print('name: ', param[0])\n",
        "    print('tensor: ', param[1])\n",
        "    print('shape: ', param[1].shape)"
      ],
      "metadata": {
        "colab": {
          "base_uri": "https://localhost:8080/"
        },
        "id": "BuzsU7DXrTr9",
        "outputId": "8757326a-4264-481b-f4db-4442966ca229"
      },
      "execution_count": 3,
      "outputs": [
        {
          "output_type": "stream",
          "name": "stdout",
          "text": [
            "name:  weight\n",
            "tensor:  Parameter containing:\n",
            "tensor([[-0.4078]], requires_grad=True)\n",
            "shape:  torch.Size([1, 1])\n",
            "name:  bias\n",
            "tensor:  Parameter containing:\n",
            "tensor([0.0331], requires_grad=True)\n",
            "shape:  torch.Size([1])\n"
          ]
        }
      ]
    },
    {
      "cell_type": "code",
      "source": [
        ""
      ],
      "metadata": {
        "id": "OUgHyMwzwiYj"
      },
      "execution_count": 3,
      "outputs": []
    },
    {
      "cell_type": "markdown",
      "source": [
        "上記の出力の結果からweightとbiasがランダムに設定されていることがわかります。\n",
        "\n",
        "通常乱数値がセットされているパラメーターを明示的に設定したい場合、以下のコードのようにnn.init.constantを呼び出します。\n",
        "\n",
        "y=2*x+1"
      ],
      "metadata": {
        "id": "nNHreoQtwjQD"
      }
    },
    {
      "cell_type": "code",
      "source": [
        "# 初期値設定\n",
        "nn.init.constant_(l1.weight, 2.0)\n",
        "nn.init.constant_(l1.bias, 1.0)\n",
        "\n",
        "# 結果確認\n",
        "print(l1.weight)\n",
        "print(l1.bias)"
      ],
      "metadata": {
        "colab": {
          "base_uri": "https://localhost:8080/"
        },
        "id": "GsI4RbyXzpb-",
        "outputId": "2f15cb50-e7c7-4624-f50e-6f533e3e5b44"
      },
      "execution_count": 4,
      "outputs": [
        {
          "output_type": "stream",
          "name": "stdout",
          "text": [
            "Parameter containing:\n",
            "tensor([[2.]], requires_grad=True)\n",
            "Parameter containing:\n",
            "tensor([1.], requires_grad=True)\n"
          ]
        }
      ]
    },
    {
      "cell_type": "markdown",
      "source": [
        ""
      ],
      "metadata": {
        "id": "AVFZJZG-0P23"
      }
    },
    {
      "cell_type": "markdown",
      "source": [
        ""
      ],
      "metadata": {
        "id": "TWRewFGw0P7N"
      }
    },
    {
      "cell_type": "markdown",
      "source": [
        "最後に一次関数として機能していることを確認します。まずはテストデータを作成します。"
      ],
      "metadata": {
        "id": "2XH5dbqD0QmT"
      }
    },
    {
      "cell_type": "code",
      "source": [
        "# テスト用データ生成\n",
        "\n",
        "# x_npをnumpy配列で定義\n",
        "x_np = np.arange(-2, 2.1, 1)\n",
        "\n",
        "# Tensor化\n",
        "x = torch.tensor(x_np).float()\n",
        "\n",
        "# サイズを(N,1)に変更\n",
        "x = x.view(-1,1)\n",
        "\n",
        "# 結果確認\n",
        "print(x.shape)\n",
        "print(x)"
      ],
      "metadata": {
        "colab": {
          "base_uri": "https://localhost:8080/"
        },
        "id": "Ip0kTZtd0z2u",
        "outputId": "839328bc-2912-43e3-d04e-98124ac5cc08"
      },
      "execution_count": 5,
      "outputs": [
        {
          "output_type": "stream",
          "name": "stdout",
          "text": [
            "torch.Size([5, 1])\n",
            "tensor([[-2.],\n",
            "        [-1.],\n",
            "        [ 0.],\n",
            "        [ 1.],\n",
            "        [ 2.]])\n"
          ]
        }
      ]
    },
    {
      "cell_type": "markdown",
      "source": [
        "上記で気を付けるところは「NumPy変数で用意した配列をテンソル変数化する前に、float関数をかけて、データ、データ型を変換している点です。\n",
        "\n",
        "もう一つは、入力変数ｘは一次元テンソルで表現できるのに、わざわざshapeが[5,1]の二次元テンソルに変換している点です。\n",
        "これはこの後で掛け算を行う先であるweightがスカラーでなく[1,1]の行列になっているのでエラーを起こさないようにしている\n",
        "\n",
        "実装します。"
      ],
      "metadata": {
        "id": "8RWMv_AP08Cf"
      }
    },
    {
      "cell_type": "code",
      "source": [
        "# 1次関数のテスト\n",
        "\n",
        "y = l1(x)\n",
        "\n",
        "print(y.shape)\n",
        "print(y.data)"
      ],
      "metadata": {
        "colab": {
          "base_uri": "https://localhost:8080/"
        },
        "id": "iRsdWq4q-Lum",
        "outputId": "34807b21-38eb-4559-91df-647b63199d98"
      },
      "execution_count": 6,
      "outputs": [
        {
          "output_type": "stream",
          "name": "stdout",
          "text": [
            "torch.Size([5, 1])\n",
            "tensor([[-3.],\n",
            "        [-1.],\n",
            "        [ 1.],\n",
            "        [ 3.],\n",
            "        [ 5.]])\n"
          ]
        }
      ]
    },
    {
      "cell_type": "markdown",
      "source": [
        "#2入力1出力\n",
        "\n",
        "次に2入力1出力の線形関数を作ってみましょう。\n",
        "\n",
        "今回のようにweightが2個の場合すべての重みは初期値が1.0になります。"
      ],
      "metadata": {
        "id": "QyG7SkyXGFd-"
      }
    },
    {
      "cell_type": "code",
      "source": [
        "# 入力:2 出力:1 の線形関数の定義\n",
        "l2 = nn.Linear(2, 1)\n",
        "\n",
        "# 初期値設定\n",
        "nn.init.constant_(l2.weight, 1.0)\n",
        "nn.init.constant_(l2.bias, 2.0)\n",
        "\n",
        "# 結果確認\n",
        "print(l2.weight)\n",
        "print(l2.bias)"
      ],
      "metadata": {
        "colab": {
          "base_uri": "https://localhost:8080/"
        },
        "id": "KW2BQL0GGy1A",
        "outputId": "95fcfa94-8114-4b6c-f9c7-f2a7b7e6b994"
      },
      "execution_count": 7,
      "outputs": [
        {
          "output_type": "stream",
          "name": "stdout",
          "text": [
            "Parameter containing:\n",
            "tensor([[1., 1.]], requires_grad=True)\n",
            "Parameter containing:\n",
            "tensor([2.], requires_grad=True)\n"
          ]
        }
      ]
    },
    {
      "cell_type": "markdown",
      "source": [
        "今度は入力テンソルが二つの2次元テンソルになります。次のコードの4行2列のテストデータを準備しました。"
      ],
      "metadata": {
        "id": "bM_JY0cjG49z"
      }
    },
    {
      "cell_type": "code",
      "source": [
        "# 2次元numpy配列\n",
        "x2_np = np.array([[0, 0], [0, 1], [1, 0], [1,1]])\n",
        "\n",
        "# Tensor化\n",
        "x2 =  torch.tensor(x2_np).float()\n",
        "\n",
        "# 結果確認\n",
        "print(x2.shape)\n",
        "print(x2)"
      ],
      "metadata": {
        "colab": {
          "base_uri": "https://localhost:8080/"
        },
        "id": "_8GPy3r6HP30",
        "outputId": "8f442d38-8230-42d1-d55c-b6fa40d33080"
      },
      "execution_count": 8,
      "outputs": [
        {
          "output_type": "stream",
          "name": "stdout",
          "text": [
            "torch.Size([4, 2])\n",
            "tensor([[0., 0.],\n",
            "        [0., 1.],\n",
            "        [1., 0.],\n",
            "        [1., 1.]])\n"
          ]
        }
      ]
    },
    {
      "cell_type": "markdown",
      "source": [
        "このデータを使った関数呼び出しテストの実装と結果は次になります。"
      ],
      "metadata": {
        "id": "OBVrJKRnHuP6"
      }
    },
    {
      "cell_type": "code",
      "source": [
        "# 関数値計算\n",
        "y2 = l2(x2)\n",
        "\n",
        "# shape確認\n",
        "print(y2.shape)\n",
        "\n",
        "# 値確認\n",
        "print(y2.data)"
      ],
      "metadata": {
        "colab": {
          "base_uri": "https://localhost:8080/"
        },
        "id": "thDWAON1H_hc",
        "outputId": "8d57eced-839a-47a9-817c-b16cb90ab166"
      },
      "execution_count": 9,
      "outputs": [
        {
          "output_type": "stream",
          "name": "stdout",
          "text": [
            "torch.Size([4, 1])\n",
            "tensor([[2.],\n",
            "        [3.],\n",
            "        [3.],\n",
            "        [4.]])\n"
          ]
        }
      ]
    },
    {
      "cell_type": "markdown",
      "source": [
        "上記は関数の式はy=X+Xp+2なので、(X,Xp)に(0,1)や(1,1)を代入した結果通りの答えが得られます。"
      ],
      "metadata": {
        "id": "FHQ0bs3AIVuJ"
      }
    },
    {
      "cell_type": "markdown",
      "source": [
        "#2入力3出力\n",
        "\n",
        "同じ流れで出力を3つに増やしてみましょう。"
      ],
      "metadata": {
        "id": "2xpwuZtdJEqO"
      }
    },
    {
      "cell_type": "code",
      "source": [
        "#入力:2 出力:3 の線形関数の定義\n",
        "\n",
        "l3 = nn.Linear(2, 3)\n",
        "\n",
        "# 初期値設定\n",
        "nn.init.constant_(l3.weight[0,:], 1.0)\n",
        "nn.init.constant_(l3.weight[1,:], 2.0)\n",
        "nn.init.constant_(l3.weight[2,:], 3.0)\n",
        "nn.init.constant_(l3.bias, 2.0)\n",
        "\n",
        "# 結果確認\n",
        "print(l3.weight)\n",
        "print(l3.bias)"
      ],
      "metadata": {
        "colab": {
          "base_uri": "https://localhost:8080/"
        },
        "id": "jRxCM_CAJisd",
        "outputId": "735a3826-2ffe-4fb0-8dca-5c2c90400c06"
      },
      "execution_count": 10,
      "outputs": [
        {
          "output_type": "stream",
          "name": "stdout",
          "text": [
            "Parameter containing:\n",
            "tensor([[1., 1.],\n",
            "        [2., 2.],\n",
            "        [3., 3.]], requires_grad=True)\n",
            "Parameter containing:\n",
            "tensor([2., 2., 2.], requires_grad=True)\n"
          ]
        }
      ]
    },
    {
      "cell_type": "markdown",
      "source": [
        "今度は、重み行列の初期値を行ごとに別の値にしたため、コードがやや複雑になっています。\n",
        "入力は先ほど用意したx2がそのまま使えるので、このテンソルを使ってテストした結果が、次になります。"
      ],
      "metadata": {
        "id": "0kKsH6V0LVU0"
      }
    },
    {
      "cell_type": "code",
      "source": [
        "# 関数値計算\n",
        "y3 = l3(x2)\n",
        "\n",
        "# shape確認\n",
        "print(y3.shape)\n",
        "\n",
        "# 値確認\n",
        "print(y3.data)"
      ],
      "metadata": {
        "colab": {
          "base_uri": "https://localhost:8080/"
        },
        "id": "gZbQR9PaMF6R",
        "outputId": "78f4cb7d-3bea-49f7-d1a1-aec3f90ca73a"
      },
      "execution_count": 11,
      "outputs": [
        {
          "output_type": "stream",
          "name": "stdout",
          "text": [
            "torch.Size([4, 3])\n",
            "tensor([[2., 2., 2.],\n",
            "        [3., 4., 5.],\n",
            "        [3., 4., 5.],\n",
            "        [4., 6., 8.]])\n"
          ]
        }
      ]
    },
    {
      "cell_type": "markdown",
      "source": [
        "今回は\n",
        "\n",
        "入力テンソルｘ：[4,2]\n",
        "\n",
        "重み行列l3.weight：[3,2]\n",
        "\n",
        "バイアスl3.bias：[3]\n",
        "\n",
        "の間での計算となります。入力テンソルと重み行列の演算は行列同士の掛け算になります。\n",
        "\n",
        "p164"
      ],
      "metadata": {
        "id": "8ocD55NzMi4X"
      }
    },
    {
      "cell_type": "markdown",
      "source": [
        "#カスタムクラスを利用したモデルの定義\n",
        "\n",
        "大きく予測関数、損失関数、最適化関数の3つのパートに分かれています。「カスタムクラスによるモデルの定義」とは、この中の予測関数に関わるパートです。\n",
        "\n"
      ],
      "metadata": {
        "id": "_VE2jrjhQAKg"
      }
    },
    {
      "cell_type": "code",
      "source": [
        "# モデルのクラス定義\n",
        "\n",
        "class Net(nn.Module):\n",
        "    def __init__(self, n_input, n_output):\n",
        "        #  親クラスnn.Modulesの初期化呼び出し\n",
        "        super().__init__()\n",
        "\n",
        "        # 出力層の定義\n",
        "        self.l1 = nn.Linear(n_input, n_output)   \n",
        "        \n",
        "    # 予測関数の定義\n",
        "    def forward(self, x):\n",
        "        x1 = self.l1(x) # 線形回帰\n",
        "        return x1"
      ],
      "metadata": {
        "id": "z7VT4U0NRBvN"
      },
      "execution_count": 12,
      "outputs": []
    },
    {
      "cell_type": "markdown",
      "source": [
        "カスタムクラスを利用してモデルを定義した場合、予想は次のコードのように実装します。"
      ],
      "metadata": {
        "id": "jukn-yyEShAQ"
      }
    },
    {
      "cell_type": "code",
      "source": [
        "# ダミー入力\n",
        "inputs = torch.ones(100,1)\n",
        "\n",
        "# インスタンスの生成 (１入力1出力の線形モデル)\n",
        "n_input = 1\n",
        "n_output = 1\n",
        "net = Net(n_input, n_output)\n",
        "\n",
        "# 予測\n",
        "outputs = net(inputs)"
      ],
      "metadata": {
        "id": "0DJ23oc4TP7d"
      },
      "execution_count": 13,
      "outputs": []
    },
    {
      "cell_type": "markdown",
      "source": [
        "次にMSELossクラスを利用した損失関数\n",
        "\n",
        "これは機械学習全体で見た損失計算と勾配計算の役割を改めてまとめます。\n",
        "\n",
        "・「損失loss」とは、「予測関数」と「損失関数」を組み合わせて出来上がった合成関数を計算することを意味します。\n",
        "\n",
        "・この合成関数（損失）はパラメータ（weightとbias)を引数とします。\n",
        "\n",
        "・合成関数（損失）をパラメータで偏微分することが「勾配計算」であり、勾配計算の結果が勾配降下法の「パラメータ修正」で用いられます。\n",
        "\n",
        "このような関係性を頭に置いた上で欠損関数に関する以下の解説を読み進めてください。"
      ],
      "metadata": {
        "id": "nIKt0wFuUuat"
      }
    },
    {
      "cell_type": "markdown",
      "source": [
        ""
      ],
      "metadata": {
        "id": "xckIUfKeYryR"
      }
    },
    {
      "cell_type": "code",
      "source": [
        ""
      ],
      "metadata": {
        "id": "KP6l1BAbYtnQ"
      },
      "execution_count": 13,
      "outputs": []
    },
    {
      "cell_type": "markdown",
      "source": [
        "#データ準備\n",
        "\n"
      ],
      "metadata": {
        "id": "oy_RQPIcarEW"
      }
    },
    {
      "cell_type": "code",
      "source": [
        "\n",
        "import pandas as pd\n",
        "# 「ボストン・データセット」はscikit-learnのライブラリでも取得できるが、\n",
        "# その場合、将来版で利用できなくなる予定のため、別Webサイトから取得する\n",
        "data_url = \"http://lib.stat.cmu.edu/datasets/boston\"\n",
        "raw_df = pd.read_csv(data_url, sep=\"\\s+\", skiprows=22, header=None)\n",
        "x_org = np.hstack([raw_df.values[::2, :], \n",
        "    raw_df.values[1::2, :2]])\n",
        "yt = raw_df.values[1::2, 2]\n",
        "feature_names = np.array(['CRIM', 'ZN', 'INDUS', 'CHAS', 'NOX',\n",
        "    'RM', 'AGE', 'DIS', 'RAD', 'TAX', 'PTRATIO','B', 'LSTAT'])\n",
        "\n",
        "# 結果確認\n",
        "print('元データ', x_org.shape, yt.shape)\n",
        "print('項目名: ', feature_names)"
      ],
      "metadata": {
        "colab": {
          "base_uri": "https://localhost:8080/"
        },
        "id": "Pq3LDGBIbEgW",
        "outputId": "f528052c-0bee-4342-f705-0987f8681eba"
      },
      "execution_count": 14,
      "outputs": [
        {
          "output_type": "stream",
          "name": "stdout",
          "text": [
            "元データ (506, 13) (506,)\n",
            "項目名:  ['CRIM' 'ZN' 'INDUS' 'CHAS' 'NOX' 'RM' 'AGE' 'DIS' 'RAD' 'TAX' 'PTRATIO'\n",
            " 'B' 'LSTAT']\n"
          ]
        }
      ]
    },
    {
      "cell_type": "code",
      "source": [
        ""
      ],
      "metadata": {
        "id": "g9U9QX44cfhz"
      },
      "execution_count": 14,
      "outputs": []
    },
    {
      "cell_type": "markdown",
      "source": [
        "次に、入力データに関して平均部屋数（RM）の一項目だけを抜き出します。"
      ],
      "metadata": {
        "id": "L9lKUQ_ueEO9"
      }
    },
    {
      "cell_type": "code",
      "source": [
        "# データ絞り込み (項目 RMのみ)\n",
        "x = x_org[:,feature_names == 'RM']\n",
        "print('絞り込み後', x.shape)\n",
        "print(x[:5,:])\n",
        "\n",
        "# 正解データ yの表示\n",
        "print('正解データ')\n",
        "print(yt[:5])"
      ],
      "metadata": {
        "colab": {
          "base_uri": "https://localhost:8080/"
        },
        "id": "XGM6rO-5eTzP",
        "outputId": "f0d64f3e-558e-469e-c8fb-ecdd59561c5f"
      },
      "execution_count": 15,
      "outputs": [
        {
          "output_type": "stream",
          "name": "stdout",
          "text": [
            "絞り込み後 (506, 1)\n",
            "[[6.575]\n",
            " [6.421]\n",
            " [7.185]\n",
            " [6.998]\n",
            " [7.147]]\n",
            "正解データ\n",
            "[24.  21.6 34.7 33.4 36.2]\n"
          ]
        }
      ]
    },
    {
      "cell_type": "markdown",
      "source": [
        "最後に絞り込みで取得したｘと正解値ytの関係を散布図で確認します。"
      ],
      "metadata": {
        "id": "Zo9wtTwDeqLz"
      }
    },
    {
      "cell_type": "code",
      "source": [
        "import matplotlib.pyplot as plt\n",
        "\n",
        "# 散布図の表示\n",
        "\n",
        "plt.scatter(x, yt, s=10, c='b')\n",
        "plt.xlabel('部屋数')\n",
        "plt.ylabel('価格')\n",
        "plt.title('部屋数と価格の散布図')\n",
        "plt.show()"
      ],
      "metadata": {
        "colab": {
          "base_uri": "https://localhost:8080/",
          "height": 293
        },
        "id": "q6HrMw67fDE6",
        "outputId": "c4da4392-df01-43a5-9fb1-ad5174eaad19"
      },
      "execution_count": 16,
      "outputs": [
        {
          "output_type": "display_data",
          "data": {
            "text/plain": [
              "<Figure size 432x288 with 1 Axes>"
            ],
            "image/png": "[encoded data removed]"
          },
          "metadata": {
            "needs_background": "light"
          }
        }
      ]
    },
    {
      "cell_type": "markdown",
      "source": [
        "#モデル定義\n",
        "\n",
        "変数定義をします、まず、n_inputとn_outputについて説明します。機械学習・ディープラーニングモデルとは、結局「入力ベクトルに対して出力ベクトルを返す関数である」ということが可能です。\n",
        "\n"
      ],
      "metadata": {
        "id": "uXoVN8ZWf4OZ"
      }
    },
    {
      "cell_type": "code",
      "source": [
        "# 変数定義\n",
        "\n",
        "# 入力次元数\n",
        "n_input= x.shape[1]\n",
        "\n",
        "# 出力次元数\n",
        "n_output = 1\n",
        "\n",
        "print(f'入力次元数: {n_input}  出力次元数: {n_output}')"
      ],
      "metadata": {
        "colab": {
          "base_uri": "https://localhost:8080/"
        },
        "id": "w0dfNRnPi1bs",
        "outputId": "d50b4f53-134a-49f5-bcbc-8d3167fc7abd"
      },
      "execution_count": 17,
      "outputs": [
        {
          "output_type": "stream",
          "name": "stdout",
          "text": [
            "入力次元数: 1  出力次元数: 1\n"
          ]
        }
      ]
    },
    {
      "cell_type": "markdown",
      "source": [
        "機械学習モデル（予測モデル）のクラス定義\n",
        "\n",
        "次のコードが、機械学習モデルのクラス構造を定義している最も重要な実装です。"
      ],
      "metadata": {
        "id": "qK2pCVHjkLET"
      }
    },
    {
      "cell_type": "code",
      "source": [
        "# 機械学習モデル（予測モデル）クラス定義\n",
        "\n",
        "class Net(nn.Module):\n",
        "    def __init__(self, n_input, n_output):\n",
        "        #  親クラスnn.Modulesの初期化呼び出し\n",
        "        super().__init__()\n",
        "\n",
        "        # 出力層の定義\n",
        "        self.l1 = nn.Linear(n_input, n_output)   \n",
        "        \n",
        "        # 初期値を全部1にする\n",
        "        # 「ディープラーニングの数学」と条件を合わせる目的\n",
        "        nn.init.constant_(self.l1.weight, 1.0)\n",
        "        nn.init.constant_(self.l1.bias, 1.0)\n",
        "\n",
        "    # 予測関数の定義\n",
        "    def forward(self, x):\n",
        "        x1 = self.l1(x) # 線形回帰\n",
        "        return x1"
      ],
      "metadata": {
        "id": "pP6Re0Amkrsd"
      },
      "execution_count": 18,
      "outputs": []
    },
    {
      "cell_type": "markdown",
      "source": [
        "・カスタムクラスNetが、nn.Moduleの子クラスとして定義されている\n",
        "\n",
        "・冒頭の__init__関数で初期化処理をしている\n",
        "\n",
        "・__init__関数の内部で親クラスの__init__関数を呼んでいる\n",
        "\n",
        "というのが読み取れます、よくわからない場合はクラスとインスタンスについて勉強してください。"
      ],
      "metadata": {
        "id": "DK6altgVkxV2"
      }
    },
    {
      "cell_type": "markdown",
      "source": [
        "インスタンス生成\n",
        "\n",
        "次のコードは今定義したクラスNetからインスタンス変数を生成します。"
      ],
      "metadata": {
        "id": "9B1rIuI5s5rj"
      }
    },
    {
      "cell_type": "code",
      "source": [
        "# インスタンスの生成\n",
        "# １入力1出力の線形モデル\n",
        "\n",
        "net = Net(n_input, n_output)"
      ],
      "metadata": {
        "id": "YPSiP-fiux2i"
      },
      "execution_count": 19,
      "outputs": []
    },
    {
      "cell_type": "markdown",
      "source": [
        "インスタンス生成時の引数として入力次元数（＝1）と出力次元数（＝1）を渡しています。\n",
        "\n",
        "Netクラスのインスタンスであるnet変数を定義すると、次の呼び出し方で、入力テンソルから、予測値である出力テンソルを取得可能です。"
      ],
      "metadata": {
        "id": "tbZvnfEOvKYh"
      }
    },
    {
      "cell_type": "code",
      "source": [
        "outputs=net(inputs)"
      ],
      "metadata": {
        "id": "Ehws38n7wouZ"
      },
      "execution_count": 20,
      "outputs": []
    },
    {
      "cell_type": "markdown",
      "source": [
        "Q　モデル内の変数値表示\n",
        "\n",
        "こうやって生成したモデルを表す変数Netでは、親クラスのnn.Module内で定義されている機能を利用できます。\n",
        "\n",
        "named_parameters関数：モデル内の変数名とその値を取得する\n",
        "\n",
        "parameters関数：パラメータ変数だけが名前なしにリスト形式で返してきます。"
      ],
      "metadata": {
        "id": "EjCThB0RyMcs"
      }
    },
    {
      "cell_type": "code",
      "source": [
        "# モデル内のパラメータの確認\n",
        "# モデル内の変数取得にはnamed_parameters関数を利用する\n",
        "# 結果の第1要素が名前、第2要素が値\n",
        "# \n",
        "# predict.weightとpredict.biasがあることがわかる\n",
        "# 初期値はどちらも1.0になっている\n",
        "\n",
        "for parameter in net.named_parameters():\n",
        "    print(f'変数名: {parameter[0]}')\n",
        "    print(f'変数値: {parameter[1].data}')"
      ],
      "metadata": {
        "colab": {
          "base_uri": "https://localhost:8080/"
        },
        "id": "P5xNlazNz2NA",
        "outputId": "1686e83f-3d10-4e86-ebcf-73c540d53953"
      },
      "execution_count": 21,
      "outputs": [
        {
          "output_type": "stream",
          "name": "stdout",
          "text": [
            "変数名: l1.weight\n",
            "変数値: tensor([[1.]])\n",
            "変数名: l1.bias\n",
            "変数値: tensor([1.])\n"
          ]
        }
      ]
    },
    {
      "cell_type": "code",
      "source": [
        "# パラメータのリスト取得にはparameters関数を利用する\n",
        "\n",
        "for parameter in net.parameters():\n",
        "    print(parameter)"
      ],
      "metadata": {
        "id": "6uiIfE_uz77h",
        "colab": {
          "base_uri": "https://localhost:8080/"
        },
        "outputId": "2663635a-42c2-4aaf-84a6-813b110b218c"
      },
      "execution_count": 22,
      "outputs": [
        {
          "output_type": "stream",
          "name": "stdout",
          "text": [
            "Parameter containing:\n",
            "tensor([[1.]], requires_grad=True)\n",
            "Parameter containing:\n",
            "tensor([1.], requires_grad=True)\n"
          ]
        }
      ]
    },
    {
      "cell_type": "markdown",
      "source": [
        "Q　モデルの概要表示\n",
        "\n",
        "機械学習はニューラルネットワークの構造が最も重要です。今回は二つ紹介します。\n",
        "\n",
        "まず一つ目はモデルのインスタンスをそのままprint関数に渡す方法する\n",
        "\n"
      ],
      "metadata": {
        "id": "nNuszTNf0Jcy"
      }
    },
    {
      "cell_type": "code",
      "source": [
        "# モデルの概要表示\n",
        "\n",
        "print(net)"
      ],
      "metadata": {
        "id": "XCxoqJUj2DW5",
        "colab": {
          "base_uri": "https://localhost:8080/"
        },
        "outputId": "2920fbee-324b-485d-8128-8e3cff3d183b"
      },
      "execution_count": 23,
      "outputs": [
        {
          "output_type": "stream",
          "name": "stdout",
          "text": [
            "Net(\n",
            "  (l1): Linear(in_features=1, out_features=1, bias=True)\n",
            ")\n"
          ]
        }
      ]
    },
    {
      "cell_type": "markdown",
      "source": [
        "もう一つはtorchinfoという専用のライブラリを利用する方法です。"
      ],
      "metadata": {
        "id": "g0K7rL7VxfTX"
      }
    },
    {
      "cell_type": "code",
      "source": [
        "# モデルのサマリー表示\n",
        "\n",
        "from torchinfo import summary\n",
        "summary(net, (1,))"
      ],
      "metadata": {
        "colab": {
          "base_uri": "https://localhost:8080/"
        },
        "id": "IwtO_lsyyCl-",
        "outputId": "9dadf78e-5b66-48e7-9bc5-697a4bf266c7"
      },
      "execution_count": 24,
      "outputs": [
        {
          "output_type": "execute_result",
          "data": {
            "text/plain": [
              "==========================================================================================\n",
              "Layer (type:depth-idx)                   Output Shape              Param #\n",
              "==========================================================================================\n",
              "Net                                      --                        --\n",
              "├─Linear: 1-1                            [1]                       2\n",
              "==========================================================================================\n",
              "Total params: 2\n",
              "Trainable params: 2\n",
              "Non-trainable params: 0\n",
              "Total mult-adds (M): 0.00\n",
              "==========================================================================================\n",
              "Input size (MB): 0.00\n",
              "Forward/backward pass size (MB): 0.00\n",
              "Params size (MB): 0.00\n",
              "Estimated Total Size (MB): 0.00\n",
              "=========================================================================================="
            ]
          },
          "metadata": {},
          "execution_count": 24
        }
      ]
    },
    {
      "cell_type": "markdown",
      "source": [
        "summaryという関数を呼び出すのですが、引数としてnet関数そのものと、入力変数のサイズを指定します。今回の入力は1変数なので、(1,)を指定します。"
      ],
      "metadata": {
        "id": "h3agfbr0yHSk"
      }
    },
    {
      "cell_type": "code",
      "source": [
        ""
      ],
      "metadata": {
        "id": "vc7yk8qZ1lr1"
      },
      "execution_count": 24,
      "outputs": []
    },
    {
      "cell_type": "markdown",
      "source": [
        "Q　損失関数と最適化関数の定義\n",
        "\n",
        "機械学習のアルゴリズムの中で重要なうちの二つを行います。"
      ],
      "metadata": {
        "id": "7vFVDVeU00PH"
      }
    },
    {
      "cell_type": "code",
      "source": [
        "# 損失関数： 平均2乗誤差\n",
        "criterion = nn.MSELoss()\n",
        "\n",
        "# 学習率\n",
        "lr = 0.01\n",
        "\n",
        "# 最適化関数: 勾配降下法\n",
        "optimizer = optim.SGD(net.parameters(), lr=lr)"
      ],
      "metadata": {
        "id": "xPyEQjxS1nS7"
      },
      "execution_count": 25,
      "outputs": []
    },
    {
      "cell_type": "markdown",
      "source": [
        "#勾配降下法\n",
        "\n",
        "まとめたコードの前に重要な部分を学びましょう。"
      ],
      "metadata": {
        "id": "DP4dYpUdy8Tf"
      }
    },
    {
      "cell_type": "markdown",
      "source": [
        "Q　入力値ｘと正解値ytのテンソル化\n",
        "\n",
        "冒頭で散布図描画に使ったX,Y をテンソル化します。"
      ],
      "metadata": {
        "id": "g3IMql9u0OIA"
      }
    },
    {
      "cell_type": "code",
      "source": [
        "# 入力変数x と正解値 ytのテンソル変数化\n",
        "\n",
        "inputs = torch.tensor(x).float()\n",
        "labels = torch.tensor(yt).float()\n",
        "\n",
        "# 次元数確認\n",
        "\n",
        "print(inputs.shape)\n",
        "print(labels.shape)"
      ],
      "metadata": {
        "colab": {
          "base_uri": "https://localhost:8080/"
        },
        "id": "sCJKmhBN2nTX",
        "outputId": "1b452028-dc17-45b5-d671-fbfdf2ebbb6c"
      },
      "execution_count": 26,
      "outputs": [
        {
          "output_type": "stream",
          "name": "stdout",
          "text": [
            "torch.Size([506, 1])\n",
            "torch.Size([506])\n"
          ]
        }
      ]
    },
    {
      "cell_type": "markdown",
      "source": [
        "正解値をテンソル変数化した変数labelsに関しては、これからMSELossのインスタンスであるcriterion関数に、予測値とともに渡して、損失を計算します。その時に引数はN次元ベクトル形式でなく、(N,1)次元の行列形式であることが必要です。\n",
        "そのためにview関数を利用してデータサイズを変更するための実装が次になります。"
      ],
      "metadata": {
        "id": "56B_IJzy4ENB"
      }
    },
    {
      "cell_type": "code",
      "source": [
        "# 損失値計算用にlabels変数を(N,1)次元の行列に変換する\n",
        "\n",
        "labels1 = labels.view((-1, 1))\n",
        "\n",
        "# 次元数確認\n",
        "print(labels1.shape)"
      ],
      "metadata": {
        "colab": {
          "base_uri": "https://localhost:8080/"
        },
        "id": "1t1mJDzl5W_6",
        "outputId": "c21e52f3-fc09-41ee-a7c0-a4de49589a05"
      },
      "execution_count": 27,
      "outputs": [
        {
          "output_type": "stream",
          "name": "stdout",
          "text": [
            "torch.Size([506, 1])\n"
          ]
        }
      ]
    },
    {
      "cell_type": "code",
      "source": [
        ""
      ],
      "metadata": {
        "id": "y1sgBBP85yBh"
      },
      "execution_count": 27,
      "outputs": []
    },
    {
      "cell_type": "markdown",
      "source": [
        "これで用意は整ました、あとは\n",
        "\n",
        "①　予測関数\n",
        "\n",
        "②　損失関数\n",
        "\n",
        "③　勾配計算\n",
        "\n",
        "④　パラメータ修正\n",
        "\n",
        "を繰り返せば完成です。"
      ],
      "metadata": {
        "id": "Fy1ZyYnq5ySr"
      }
    },
    {
      "cell_type": "code",
      "source": [
        ""
      ],
      "metadata": {
        "id": "sDouQV-z6TZz"
      },
      "execution_count": 27,
      "outputs": []
    },
    {
      "cell_type": "markdown",
      "source": [
        "①予測関数\n",
        "\n"
      ],
      "metadata": {
        "id": "rzw1JnDb6UFy"
      }
    },
    {
      "cell_type": "code",
      "source": [
        "# 予測計算\n",
        "\n",
        "outputs = net(inputs)\n",
        "\n",
        "\n",
        "#  損失計算\n",
        "loss = criterion(outputs, labels1)\n",
        "\n",
        "# 損失値の取得\n",
        "print(f'{loss.item():.5f}')\n",
        "\n",
        "# 損失の計算グラフ可視化\n",
        "\n",
        "g = make_dot(loss, params=dict(net.named_parameters()))\n",
        "display(g)\n",
        "\n",
        "# 予測計算\n",
        "outputs = net(inputs)\n",
        "\n",
        "#  損失計算\n",
        "loss = criterion(outputs, labels1)\n",
        "\n",
        "# 勾配計算\n",
        "loss.backward()\n",
        "\n",
        "# 勾配の結果が取得可能に\n",
        "print(net.l1.weight.grad)\n",
        "print(net.l1.bias.grad)\n",
        "\n",
        "# パラメータ修正\n",
        "optimizer.step()\n",
        "\n",
        "# パラメータ値が変わる\n",
        "print(net.l1.weight)\n",
        "print(net.l1.bias)\n",
        "\n",
        "\n",
        "# 勾配値の初期化\n",
        "optimizer.zero_grad()\n",
        "\n",
        "# 勾配値がすべてゼロになっている\n",
        "print(net.l1.weight.grad)\n",
        "print(net.l1.bias.grad)"
      ],
      "metadata": {
        "colab": {
          "base_uri": "https://localhost:8080/",
          "height": 632
        },
        "id": "UO7kLfI16dCH",
        "outputId": "a984172c-d01f-48a7-81aa-fb50b327b3d1"
      },
      "execution_count": 28,
      "outputs": [
        {
          "output_type": "stream",
          "name": "stdout",
          "text": [
            "308.44986\n"
          ]
        },
        {
          "output_type": "display_data",
          "data": {
            "text/plain": [
              "<graphviz.dot.Digraph at 0x7feb20eb4190>"
            ],
            "image/svg+xml": "<?xml version=\"1.0\" encoding=\"UTF-8\" standalone=\"no\"?>\n<!DOCTYPE svg PUBLIC \"-//W3C//DTD SVG 1.1//EN\"\n \"http://www.w3.org/Graphics/SVG/1.1/DTD/svg11.dtd\">\n<!-- Generated by graphviz version 2.40.1 (20161225.0304)\n -->\n<!-- Title: %3 Pages: 1 -->\n<svg width=\"216pt\" height=\"336pt\"\n viewBox=\"0.00 0.00 216.00 336.00\" xmlns=\"http://www.w3.org/2000/svg\" xmlns:xlink=\"http://www.w3.org/1999/xlink\">\n<g id=\"graph0\" class=\"graph\" transform=\"scale(1 1) rotate(0) translate(4 332)\">\n<title>%3</title>\n<polygon fill=\"#ffffff\" stroke=\"transparent\" points=\"-4,4 -4,-332 212,-332 212,4 -4,4\"/>\n<!-- 140647846283792 -->\n<g id=\"node1\" class=\"node\">\n<title>140647846283792</title>\n<polygon fill=\"#caff70\" stroke=\"#000000\" points=\"130.5,-31 76.5,-31 76.5,0 130.5,0 130.5,-31\"/>\n<text text-anchor=\"middle\" x=\"103.5\" y=\"-7\" font-family=\"monospace\" font-size=\"10.00\" fill=\"#000000\"> ()</text>\n</g>\n<!-- 140647846330640 -->\n<g id=\"node2\" class=\"node\">\n<title>140647846330640</title>\n<polygon fill=\"#d3d3d3\" stroke=\"#000000\" points=\"160,-86 47,-86 47,-67 160,-67 160,-86\"/>\n<text text-anchor=\"middle\" x=\"103.5\" y=\"-74\" font-family=\"monospace\" font-size=\"10.00\" fill=\"#000000\">MseLossBackward0</text>\n</g>\n<!-- 140647846330640&#45;&gt;140647846283792 -->\n<g id=\"edge7\" class=\"edge\">\n<title>140647846330640&#45;&gt;140647846283792</title>\n<path fill=\"none\" stroke=\"#000000\" d=\"M103.5,-66.9688C103.5,-60.1289 103.5,-50.5621 103.5,-41.5298\"/>\n<polygon fill=\"#000000\" stroke=\"#000000\" points=\"107.0001,-41.3678 103.5,-31.3678 100.0001,-41.3678 107.0001,-41.3678\"/>\n</g>\n<!-- 140647846330832 -->\n<g id=\"node3\" class=\"node\">\n<title>140647846330832</title>\n<polygon fill=\"#d3d3d3\" stroke=\"#000000\" points=\"154,-141 53,-141 53,-122 154,-122 154,-141\"/>\n<text text-anchor=\"middle\" x=\"103.5\" y=\"-129\" font-family=\"monospace\" font-size=\"10.00\" fill=\"#000000\">AddmmBackward0</text>\n</g>\n<!-- 140647846330832&#45;&gt;140647846330640 -->\n<g id=\"edge1\" class=\"edge\">\n<title>140647846330832&#45;&gt;140647846330640</title>\n<path fill=\"none\" stroke=\"#000000\" d=\"M103.5,-121.9197C103.5,-114.9083 103.5,-105.1442 103.5,-96.4652\"/>\n<polygon fill=\"#000000\" stroke=\"#000000\" points=\"107.0001,-96.3408 103.5,-86.3408 100.0001,-96.3409 107.0001,-96.3408\"/>\n</g>\n<!-- 140647846331728 -->\n<g id=\"node4\" class=\"node\">\n<title>140647846331728</title>\n<polygon fill=\"#d3d3d3\" stroke=\"#000000\" points=\"101,-196 0,-196 0,-177 101,-177 101,-196\"/>\n<text text-anchor=\"middle\" x=\"50.5\" y=\"-184\" font-family=\"monospace\" font-size=\"10.00\" fill=\"#000000\">AccumulateGrad</text>\n</g>\n<!-- 140647846331728&#45;&gt;140647846330832 -->\n<g id=\"edge2\" class=\"edge\">\n<title>140647846331728&#45;&gt;140647846330832</title>\n<path fill=\"none\" stroke=\"#000000\" d=\"M59.7319,-176.9197C67.2391,-169.1293 78.021,-157.9405 87.0049,-148.6176\"/>\n<polygon fill=\"#000000\" stroke=\"#000000\" points=\"89.5983,-150.9703 94.017,-141.3408 84.5578,-146.113 89.5983,-150.9703\"/>\n</g>\n<!-- 140647846530128 -->\n<g id=\"node5\" class=\"node\">\n<title>140647846530128</title>\n<polygon fill=\"#add8e6\" stroke=\"#000000\" points=\"80,-262 21,-262 21,-232 80,-232 80,-262\"/>\n<text text-anchor=\"middle\" x=\"50.5\" y=\"-250\" font-family=\"monospace\" font-size=\"10.00\" fill=\"#000000\">l1.bias</text>\n<text text-anchor=\"middle\" x=\"50.5\" y=\"-239\" font-family=\"monospace\" font-size=\"10.00\" fill=\"#000000\"> (1)</text>\n</g>\n<!-- 140647846530128&#45;&gt;140647846331728 -->\n<g id=\"edge3\" class=\"edge\">\n<title>140647846530128&#45;&gt;140647846331728</title>\n<path fill=\"none\" stroke=\"#000000\" d=\"M50.5,-231.7333C50.5,-224.0322 50.5,-214.5977 50.5,-206.3414\"/>\n<polygon fill=\"#000000\" stroke=\"#000000\" points=\"54.0001,-206.0864 50.5,-196.0864 47.0001,-206.0864 54.0001,-206.0864\"/>\n</g>\n<!-- 140647846331344 -->\n<g id=\"node6\" class=\"node\">\n<title>140647846331344</title>\n<polygon fill=\"#d3d3d3\" stroke=\"#000000\" points=\"196,-196 119,-196 119,-177 196,-177 196,-196\"/>\n<text text-anchor=\"middle\" x=\"157.5\" y=\"-184\" font-family=\"monospace\" font-size=\"10.00\" fill=\"#000000\">TBackward0</text>\n</g>\n<!-- 140647846331344&#45;&gt;140647846330832 -->\n<g id=\"edge4\" class=\"edge\">\n<title>140647846331344&#45;&gt;140647846330832</title>\n<path fill=\"none\" stroke=\"#000000\" d=\"M148.0939,-176.9197C140.4451,-169.1293 129.4597,-157.9405 120.3064,-148.6176\"/>\n<polygon fill=\"#000000\" stroke=\"#000000\" points=\"122.6653,-146.0244 113.1619,-141.3408 117.6704,-150.9286 122.6653,-146.0244\"/>\n</g>\n<!-- 140647846330512 -->\n<g id=\"node7\" class=\"node\">\n<title>140647846330512</title>\n<polygon fill=\"#d3d3d3\" stroke=\"#000000\" points=\"208,-256.5 107,-256.5 107,-237.5 208,-237.5 208,-256.5\"/>\n<text text-anchor=\"middle\" x=\"157.5\" y=\"-244.5\" font-family=\"monospace\" font-size=\"10.00\" fill=\"#000000\">AccumulateGrad</text>\n</g>\n<!-- 140647846330512&#45;&gt;140647846331344 -->\n<g id=\"edge5\" class=\"edge\">\n<title>140647846330512&#45;&gt;140647846331344</title>\n<path fill=\"none\" stroke=\"#000000\" d=\"M157.5,-237.2796C157.5,-229.0376 157.5,-216.9457 157.5,-206.629\"/>\n<polygon fill=\"#000000\" stroke=\"#000000\" points=\"161.0001,-206.3972 157.5,-196.3972 154.0001,-206.3973 161.0001,-206.3972\"/>\n</g>\n<!-- 140647846528208 -->\n<g id=\"node8\" class=\"node\">\n<title>140647846528208</title>\n<polygon fill=\"#add8e6\" stroke=\"#000000\" points=\"193,-328 122,-328 122,-298 193,-298 193,-328\"/>\n<text text-anchor=\"middle\" x=\"157.5\" y=\"-316\" font-family=\"monospace\" font-size=\"10.00\" fill=\"#000000\">l1.weight</text>\n<text text-anchor=\"middle\" x=\"157.5\" y=\"-305\" font-family=\"monospace\" font-size=\"10.00\" fill=\"#000000\"> (1, 1)</text>\n</g>\n<!-- 140647846528208&#45;&gt;140647846330512 -->\n<g id=\"edge6\" class=\"edge\">\n<title>140647846528208&#45;&gt;140647846330512</title>\n<path fill=\"none\" stroke=\"#000000\" d=\"M157.5,-297.6924C157.5,-288.5067 157.5,-276.7245 157.5,-266.8312\"/>\n<polygon fill=\"#000000\" stroke=\"#000000\" points=\"161.0001,-266.703 157.5,-256.7031 154.0001,-266.7031 161.0001,-266.703\"/>\n</g>\n</g>\n</svg>\n"
          },
          "metadata": {}
        },
        {
          "output_type": "stream",
          "name": "stdout",
          "text": [
            "tensor([[-199.6421]])\n",
            "tensor([-30.4963])\n",
            "Parameter containing:\n",
            "tensor([[2.9964]], requires_grad=True)\n",
            "Parameter containing:\n",
            "tensor([1.3050], requires_grad=True)\n",
            "tensor([[0.]])\n",
            "tensor([0.])\n"
          ]
        }
      ]
    },
    {
      "cell_type": "markdown",
      "source": [
        "Q　繰り返し計算\n",
        "\n",
        "上記の処理を繰り返せば、最適なパラメータが見つかるはずです。"
      ],
      "metadata": {
        "id": "o6cirmED7Z6u"
      }
    },
    {
      "cell_type": "code",
      "source": [
        "# 学習率\n",
        "lr = 0.01\n",
        "\n",
        "# インスタンス生成　(パラメータ値初期化)\n",
        "net = Net(n_input, n_output)\n",
        "\n",
        "# 損失関数： 平均2乗誤差\n",
        "criterion = nn.MSELoss()\n",
        "\n",
        "# 最適化関数: 勾配降下法\n",
        "optimizer = optim.SGD(net.parameters(), lr=lr)\n",
        "\n",
        "# 繰り返し回数\n",
        "num_epochs = 50000\n",
        "\n",
        "# 評価結果記録用 (損失関数値のみ記録)\n",
        "history = np.zeros((0,2))\n",
        "\n",
        "# 繰り返し計算メインループ\n",
        "\n",
        "for epoch in range(num_epochs):\n",
        "    \n",
        "    # 勾配値初期化\n",
        "    optimizer.zero_grad()\n",
        "\n",
        "    # 予測計算\n",
        "    outputs = net(inputs)\n",
        "  \n",
        "    # 損失計算\n",
        "    # 「ディープラーニングの数学」に合わせて2で割った値を損失とした\n",
        "    loss = criterion(outputs, labels1) / 2.0\n",
        "\n",
        "    # 勾配計算\n",
        "    loss.backward()\n",
        "\n",
        "    # パラメータ修正\n",
        "    optimizer.step()\n",
        "\n",
        "    # 100回ごとに途中経過を記録する\n",
        "    if ( epoch % 100 == 0):\n",
        "        history = np.vstack((history, np.array([epoch, loss.item()])))\n",
        "        print(f'Epoch {epoch} loss: {loss.item():.5f}')"
      ],
      "metadata": {
        "colab": {
          "base_uri": "https://localhost:8080/"
        },
        "id": "2y4nIoBr7qlb",
        "outputId": "a78397df-b898-4c94-b47d-842892e60eb7"
      },
      "execution_count": 29,
      "outputs": [
        {
          "output_type": "stream",
          "name": "stdout",
          "text": [
            "Epoch 0 loss: 154.22493\n",
            "Epoch 100 loss: 29.61752\n",
            "Epoch 200 loss: 29.43177\n",
            "Epoch 300 loss: 29.25043\n",
            "Epoch 400 loss: 29.07340\n",
            "Epoch 500 loss: 28.90057\n",
            "Epoch 600 loss: 28.73186\n",
            "Epoch 700 loss: 28.56715\n",
            "Epoch 800 loss: 28.40636\n",
            "Epoch 900 loss: 28.24939\n",
            "Epoch 1000 loss: 28.09615\n",
            "Epoch 1100 loss: 27.94655\n",
            "Epoch 1200 loss: 27.80050\n",
            "Epoch 1300 loss: 27.65792\n",
            "Epoch 1400 loss: 27.51873\n",
            "Epoch 1500 loss: 27.38285\n",
            "Epoch 1600 loss: 27.25020\n",
            "Epoch 1700 loss: 27.12070\n",
            "Epoch 1800 loss: 26.99428\n",
            "Epoch 1900 loss: 26.87086\n",
            "Epoch 2000 loss: 26.75037\n",
            "Epoch 2100 loss: 26.63275\n",
            "Epoch 2200 loss: 26.51792\n",
            "Epoch 2300 loss: 26.40582\n",
            "Epoch 2400 loss: 26.29639\n",
            "Epoch 2500 loss: 26.18955\n",
            "Epoch 2600 loss: 26.08525\n",
            "Epoch 2700 loss: 25.98343\n",
            "Epoch 2800 loss: 25.88404\n",
            "Epoch 2900 loss: 25.78700\n",
            "Epoch 3000 loss: 25.69226\n",
            "Epoch 3100 loss: 25.59978\n",
            "Epoch 3200 loss: 25.50950\n",
            "Epoch 3300 loss: 25.42136\n",
            "Epoch 3400 loss: 25.33532\n",
            "Epoch 3500 loss: 25.25132\n",
            "Epoch 3600 loss: 25.16932\n",
            "Epoch 3700 loss: 25.08927\n",
            "Epoch 3800 loss: 25.01111\n",
            "Epoch 3900 loss: 24.93482\n",
            "Epoch 4000 loss: 24.86034\n",
            "Epoch 4100 loss: 24.78762\n",
            "Epoch 4200 loss: 24.71664\n",
            "Epoch 4300 loss: 24.64734\n",
            "Epoch 4400 loss: 24.57969\n",
            "Epoch 4500 loss: 24.51365\n",
            "Epoch 4600 loss: 24.44917\n",
            "Epoch 4700 loss: 24.38623\n",
            "Epoch 4800 loss: 24.32478\n",
            "Epoch 4900 loss: 24.26480\n",
            "Epoch 5000 loss: 24.20624\n",
            "Epoch 5100 loss: 24.14907\n",
            "Epoch 5200 loss: 24.09326\n",
            "Epoch 5300 loss: 24.03877\n",
            "Epoch 5400 loss: 23.98558\n",
            "Epoch 5500 loss: 23.93365\n",
            "Epoch 5600 loss: 23.88296\n",
            "Epoch 5700 loss: 23.83347\n",
            "Epoch 5800 loss: 23.78516\n",
            "Epoch 5900 loss: 23.73800\n",
            "Epoch 6000 loss: 23.69196\n",
            "Epoch 6100 loss: 23.64701\n",
            "Epoch 6200 loss: 23.60312\n",
            "Epoch 6300 loss: 23.56029\n",
            "Epoch 6400 loss: 23.51847\n",
            "Epoch 6500 loss: 23.47764\n",
            "Epoch 6600 loss: 23.43778\n",
            "Epoch 6700 loss: 23.39887\n",
            "Epoch 6800 loss: 23.36088\n",
            "Epoch 6900 loss: 23.32380\n",
            "Epoch 7000 loss: 23.28760\n",
            "Epoch 7100 loss: 23.25226\n",
            "Epoch 7200 loss: 23.21776\n",
            "Epoch 7300 loss: 23.18408\n",
            "Epoch 7400 loss: 23.15120\n",
            "Epoch 7500 loss: 23.11910\n",
            "Epoch 7600 loss: 23.08776\n",
            "Epoch 7700 loss: 23.05717\n",
            "Epoch 7800 loss: 23.02730\n",
            "Epoch 7900 loss: 22.99814\n",
            "Epoch 8000 loss: 22.96968\n",
            "Epoch 8100 loss: 22.94190\n",
            "Epoch 8200 loss: 22.91477\n",
            "Epoch 8300 loss: 22.88828\n",
            "Epoch 8400 loss: 22.86243\n",
            "Epoch 8500 loss: 22.83719\n",
            "Epoch 8600 loss: 22.81255\n",
            "Epoch 8700 loss: 22.78850\n",
            "Epoch 8800 loss: 22.76502\n",
            "Epoch 8900 loss: 22.74209\n",
            "Epoch 9000 loss: 22.71972\n",
            "Epoch 9100 loss: 22.69787\n",
            "Epoch 9200 loss: 22.67654\n",
            "Epoch 9300 loss: 22.65572\n",
            "Epoch 9400 loss: 22.63539\n",
            "Epoch 9500 loss: 22.61555\n",
            "Epoch 9600 loss: 22.59618\n",
            "Epoch 9700 loss: 22.57727\n",
            "Epoch 9800 loss: 22.55880\n",
            "Epoch 9900 loss: 22.54078\n",
            "Epoch 10000 loss: 22.52318\n",
            "Epoch 10100 loss: 22.50601\n",
            "Epoch 10200 loss: 22.48924\n",
            "Epoch 10300 loss: 22.47287\n",
            "Epoch 10400 loss: 22.45688\n",
            "Epoch 10500 loss: 22.44128\n",
            "Epoch 10600 loss: 22.42605\n",
            "Epoch 10700 loss: 22.41118\n",
            "Epoch 10800 loss: 22.39667\n",
            "Epoch 10900 loss: 22.38249\n",
            "Epoch 11000 loss: 22.36866\n",
            "Epoch 11100 loss: 22.35515\n",
            "Epoch 11200 loss: 22.34197\n",
            "Epoch 11300 loss: 22.32910\n",
            "Epoch 11400 loss: 22.31653\n",
            "Epoch 11500 loss: 22.30426\n",
            "Epoch 11600 loss: 22.29229\n",
            "Epoch 11700 loss: 22.28060\n",
            "Epoch 11800 loss: 22.26919\n",
            "Epoch 11900 loss: 22.25804\n",
            "Epoch 12000 loss: 22.24717\n",
            "Epoch 12100 loss: 22.23655\n",
            "Epoch 12200 loss: 22.22618\n",
            "Epoch 12300 loss: 22.21606\n",
            "Epoch 12400 loss: 22.20618\n",
            "Epoch 12500 loss: 22.19654\n",
            "Epoch 12600 loss: 22.18712\n",
            "Epoch 12700 loss: 22.17793\n",
            "Epoch 12800 loss: 22.16896\n",
            "Epoch 12900 loss: 22.16020\n",
            "Epoch 13000 loss: 22.15165\n",
            "Epoch 13100 loss: 22.14330\n",
            "Epoch 13200 loss: 22.13514\n",
            "Epoch 13300 loss: 22.12719\n",
            "Epoch 13400 loss: 22.11942\n",
            "Epoch 13500 loss: 22.11184\n",
            "Epoch 13600 loss: 22.10443\n",
            "Epoch 13700 loss: 22.09720\n",
            "Epoch 13800 loss: 22.09015\n",
            "Epoch 13900 loss: 22.08326\n",
            "Epoch 14000 loss: 22.07654\n",
            "Epoch 14100 loss: 22.06997\n",
            "Epoch 14200 loss: 22.06357\n",
            "Epoch 14300 loss: 22.05731\n",
            "Epoch 14400 loss: 22.05120\n",
            "Epoch 14500 loss: 22.04524\n",
            "Epoch 14600 loss: 22.03942\n",
            "Epoch 14700 loss: 22.03374\n",
            "Epoch 14800 loss: 22.02819\n",
            "Epoch 14900 loss: 22.02277\n",
            "Epoch 15000 loss: 22.01749\n",
            "Epoch 15100 loss: 22.01233\n",
            "Epoch 15200 loss: 22.00729\n",
            "Epoch 15300 loss: 22.00237\n",
            "Epoch 15400 loss: 21.99757\n",
            "Epoch 15500 loss: 21.99288\n",
            "Epoch 15600 loss: 21.98830\n",
            "Epoch 15700 loss: 21.98384\n",
            "Epoch 15800 loss: 21.97948\n",
            "Epoch 15900 loss: 21.97521\n",
            "Epoch 16000 loss: 21.97106\n",
            "Epoch 16100 loss: 21.96700\n",
            "Epoch 16200 loss: 21.96304\n",
            "Epoch 16300 loss: 21.95917\n",
            "Epoch 16400 loss: 21.95539\n",
            "Epoch 16500 loss: 21.95171\n",
            "Epoch 16600 loss: 21.94811\n",
            "Epoch 16700 loss: 21.94460\n",
            "Epoch 16800 loss: 21.94117\n",
            "Epoch 16900 loss: 21.93782\n",
            "Epoch 17000 loss: 21.93456\n",
            "Epoch 17100 loss: 21.93136\n",
            "Epoch 17200 loss: 21.92825\n",
            "Epoch 17300 loss: 21.92521\n",
            "Epoch 17400 loss: 21.92224\n",
            "Epoch 17500 loss: 21.91934\n",
            "Epoch 17600 loss: 21.91651\n",
            "Epoch 17700 loss: 21.91375\n",
            "Epoch 17800 loss: 21.91106\n",
            "Epoch 17900 loss: 21.90842\n",
            "Epoch 18000 loss: 21.90585\n",
            "Epoch 18100 loss: 21.90334\n",
            "Epoch 18200 loss: 21.90090\n",
            "Epoch 18300 loss: 21.89850\n",
            "Epoch 18400 loss: 21.89617\n",
            "Epoch 18500 loss: 21.89389\n",
            "Epoch 18600 loss: 21.89167\n",
            "Epoch 18700 loss: 21.88950\n",
            "Epoch 18800 loss: 21.88738\n",
            "Epoch 18900 loss: 21.88531\n",
            "Epoch 19000 loss: 21.88329\n",
            "Epoch 19100 loss: 21.88132\n",
            "Epoch 19200 loss: 21.87939\n",
            "Epoch 19300 loss: 21.87751\n",
            "Epoch 19400 loss: 21.87567\n",
            "Epoch 19500 loss: 21.87388\n",
            "Epoch 19600 loss: 21.87213\n",
            "Epoch 19700 loss: 21.87043\n",
            "Epoch 19800 loss: 21.86876\n",
            "Epoch 19900 loss: 21.86713\n",
            "Epoch 20000 loss: 21.86554\n",
            "Epoch 20100 loss: 21.86399\n",
            "Epoch 20200 loss: 21.86248\n",
            "Epoch 20300 loss: 21.86100\n",
            "Epoch 20400 loss: 21.85956\n",
            "Epoch 20500 loss: 21.85815\n",
            "Epoch 20600 loss: 21.85677\n",
            "Epoch 20700 loss: 21.85543\n",
            "Epoch 20800 loss: 21.85412\n",
            "Epoch 20900 loss: 21.85284\n",
            "Epoch 21000 loss: 21.85159\n",
            "Epoch 21100 loss: 21.85038\n",
            "Epoch 21200 loss: 21.84918\n",
            "Epoch 21300 loss: 21.84802\n",
            "Epoch 21400 loss: 21.84689\n",
            "Epoch 21500 loss: 21.84578\n",
            "Epoch 21600 loss: 21.84470\n",
            "Epoch 21700 loss: 21.84364\n",
            "Epoch 21800 loss: 21.84261\n",
            "Epoch 21900 loss: 21.84160\n",
            "Epoch 22000 loss: 21.84063\n",
            "Epoch 22100 loss: 21.83967\n",
            "Epoch 22200 loss: 21.83873\n",
            "Epoch 22300 loss: 21.83782\n",
            "Epoch 22400 loss: 21.83693\n",
            "Epoch 22500 loss: 21.83605\n",
            "Epoch 22600 loss: 21.83520\n",
            "Epoch 22700 loss: 21.83437\n",
            "Epoch 22800 loss: 21.83356\n",
            "Epoch 22900 loss: 21.83278\n",
            "Epoch 23000 loss: 21.83200\n",
            "Epoch 23100 loss: 21.83125\n",
            "Epoch 23200 loss: 21.83051\n",
            "Epoch 23300 loss: 21.82980\n",
            "Epoch 23400 loss: 21.82909\n",
            "Epoch 23500 loss: 21.82841\n",
            "Epoch 23600 loss: 21.82774\n",
            "Epoch 23700 loss: 21.82709\n",
            "Epoch 23800 loss: 21.82645\n",
            "Epoch 23900 loss: 21.82583\n",
            "Epoch 24000 loss: 21.82522\n",
            "Epoch 24100 loss: 21.82463\n",
            "Epoch 24200 loss: 21.82405\n",
            "Epoch 24300 loss: 21.82348\n",
            "Epoch 24400 loss: 21.82293\n",
            "Epoch 24500 loss: 21.82239\n",
            "Epoch 24600 loss: 21.82187\n",
            "Epoch 24700 loss: 21.82136\n",
            "Epoch 24800 loss: 21.82085\n",
            "Epoch 24900 loss: 21.82037\n",
            "Epoch 25000 loss: 21.81989\n",
            "Epoch 25100 loss: 21.81942\n",
            "Epoch 25200 loss: 21.81897\n",
            "Epoch 25300 loss: 21.81853\n",
            "Epoch 25400 loss: 21.81809\n",
            "Epoch 25500 loss: 21.81767\n",
            "Epoch 25600 loss: 21.81726\n",
            "Epoch 25700 loss: 21.81685\n",
            "Epoch 25800 loss: 21.81646\n",
            "Epoch 25900 loss: 21.81607\n",
            "Epoch 26000 loss: 21.81570\n",
            "Epoch 26100 loss: 21.81533\n",
            "Epoch 26200 loss: 21.81497\n",
            "Epoch 26300 loss: 21.81462\n",
            "Epoch 26400 loss: 21.81428\n",
            "Epoch 26500 loss: 21.81395\n",
            "Epoch 26600 loss: 21.81363\n",
            "Epoch 26700 loss: 21.81331\n",
            "Epoch 26800 loss: 21.81300\n",
            "Epoch 26900 loss: 21.81269\n",
            "Epoch 27000 loss: 21.81240\n",
            "Epoch 27100 loss: 21.81211\n",
            "Epoch 27200 loss: 21.81183\n",
            "Epoch 27300 loss: 21.81156\n",
            "Epoch 27400 loss: 21.81129\n",
            "Epoch 27500 loss: 21.81103\n",
            "Epoch 27600 loss: 21.81077\n",
            "Epoch 27700 loss: 21.81052\n",
            "Epoch 27800 loss: 21.81028\n",
            "Epoch 27900 loss: 21.81004\n",
            "Epoch 28000 loss: 21.80981\n",
            "Epoch 28100 loss: 21.80959\n",
            "Epoch 28200 loss: 21.80936\n",
            "Epoch 28300 loss: 21.80915\n",
            "Epoch 28400 loss: 21.80894\n",
            "Epoch 28500 loss: 21.80873\n",
            "Epoch 28600 loss: 21.80853\n",
            "Epoch 28700 loss: 21.80833\n",
            "Epoch 28800 loss: 21.80814\n",
            "Epoch 28900 loss: 21.80795\n",
            "Epoch 29000 loss: 21.80777\n",
            "Epoch 29100 loss: 21.80759\n",
            "Epoch 29200 loss: 21.80742\n",
            "Epoch 29300 loss: 21.80725\n",
            "Epoch 29400 loss: 21.80709\n",
            "Epoch 29500 loss: 21.80693\n",
            "Epoch 29600 loss: 21.80676\n",
            "Epoch 29700 loss: 21.80661\n",
            "Epoch 29800 loss: 21.80646\n",
            "Epoch 29900 loss: 21.80631\n",
            "Epoch 30000 loss: 21.80617\n",
            "Epoch 30100 loss: 21.80603\n",
            "Epoch 30200 loss: 21.80589\n",
            "Epoch 30300 loss: 21.80576\n",
            "Epoch 30400 loss: 21.80563\n",
            "Epoch 30500 loss: 21.80551\n",
            "Epoch 30600 loss: 21.80538\n",
            "Epoch 30700 loss: 21.80526\n",
            "Epoch 30800 loss: 21.80514\n",
            "Epoch 30900 loss: 21.80503\n",
            "Epoch 31000 loss: 21.80491\n",
            "Epoch 31100 loss: 21.80480\n",
            "Epoch 31200 loss: 21.80469\n",
            "Epoch 31300 loss: 21.80459\n",
            "Epoch 31400 loss: 21.80449\n",
            "Epoch 31500 loss: 21.80439\n",
            "Epoch 31600 loss: 21.80429\n",
            "Epoch 31700 loss: 21.80419\n",
            "Epoch 31800 loss: 21.80410\n",
            "Epoch 31900 loss: 21.80401\n",
            "Epoch 32000 loss: 21.80392\n",
            "Epoch 32100 loss: 21.80384\n",
            "Epoch 32200 loss: 21.80375\n",
            "Epoch 32300 loss: 21.80367\n",
            "Epoch 32400 loss: 21.80359\n",
            "Epoch 32500 loss: 21.80351\n",
            "Epoch 32600 loss: 21.80343\n",
            "Epoch 32700 loss: 21.80336\n",
            "Epoch 32800 loss: 21.80328\n",
            "Epoch 32900 loss: 21.80321\n",
            "Epoch 33000 loss: 21.80314\n",
            "Epoch 33100 loss: 21.80307\n",
            "Epoch 33200 loss: 21.80301\n",
            "Epoch 33300 loss: 21.80294\n",
            "Epoch 33400 loss: 21.80288\n",
            "Epoch 33500 loss: 21.80281\n",
            "Epoch 33600 loss: 21.80276\n",
            "Epoch 33700 loss: 21.80270\n",
            "Epoch 33800 loss: 21.80264\n",
            "Epoch 33900 loss: 21.80258\n",
            "Epoch 34000 loss: 21.80253\n",
            "Epoch 34100 loss: 21.80247\n",
            "Epoch 34200 loss: 21.80242\n",
            "Epoch 34300 loss: 21.80237\n",
            "Epoch 34400 loss: 21.80232\n",
            "Epoch 34500 loss: 21.80227\n",
            "Epoch 34600 loss: 21.80223\n",
            "Epoch 34700 loss: 21.80218\n",
            "Epoch 34800 loss: 21.80213\n",
            "Epoch 34900 loss: 21.80209\n",
            "Epoch 35000 loss: 21.80205\n",
            "Epoch 35100 loss: 21.80201\n",
            "Epoch 35200 loss: 21.80197\n",
            "Epoch 35300 loss: 21.80192\n",
            "Epoch 35400 loss: 21.80189\n",
            "Epoch 35500 loss: 21.80185\n",
            "Epoch 35600 loss: 21.80181\n",
            "Epoch 35700 loss: 21.80177\n",
            "Epoch 35800 loss: 21.80174\n",
            "Epoch 35900 loss: 21.80170\n",
            "Epoch 36000 loss: 21.80167\n",
            "Epoch 36100 loss: 21.80164\n",
            "Epoch 36200 loss: 21.80161\n",
            "Epoch 36300 loss: 21.80157\n",
            "Epoch 36400 loss: 21.80154\n",
            "Epoch 36500 loss: 21.80151\n",
            "Epoch 36600 loss: 21.80148\n",
            "Epoch 36700 loss: 21.80145\n",
            "Epoch 36800 loss: 21.80143\n",
            "Epoch 36900 loss: 21.80140\n",
            "Epoch 37000 loss: 21.80137\n",
            "Epoch 37100 loss: 21.80135\n",
            "Epoch 37200 loss: 21.80132\n",
            "Epoch 37300 loss: 21.80129\n",
            "Epoch 37400 loss: 21.80127\n",
            "Epoch 37500 loss: 21.80125\n",
            "Epoch 37600 loss: 21.80122\n",
            "Epoch 37700 loss: 21.80120\n",
            "Epoch 37800 loss: 21.80118\n",
            "Epoch 37900 loss: 21.80116\n",
            "Epoch 38000 loss: 21.80114\n",
            "Epoch 38100 loss: 21.80112\n",
            "Epoch 38200 loss: 21.80110\n",
            "Epoch 38300 loss: 21.80108\n",
            "Epoch 38400 loss: 21.80106\n",
            "Epoch 38500 loss: 21.80104\n",
            "Epoch 38600 loss: 21.80102\n",
            "Epoch 38700 loss: 21.80100\n",
            "Epoch 38800 loss: 21.80099\n",
            "Epoch 38900 loss: 21.80097\n",
            "Epoch 39000 loss: 21.80095\n",
            "Epoch 39100 loss: 21.80094\n",
            "Epoch 39200 loss: 21.80092\n",
            "Epoch 39300 loss: 21.80091\n",
            "Epoch 39400 loss: 21.80089\n",
            "Epoch 39500 loss: 21.80088\n",
            "Epoch 39600 loss: 21.80087\n",
            "Epoch 39700 loss: 21.80085\n",
            "Epoch 39800 loss: 21.80083\n",
            "Epoch 39900 loss: 21.80082\n",
            "Epoch 40000 loss: 21.80081\n",
            "Epoch 40100 loss: 21.80080\n",
            "Epoch 40200 loss: 21.80079\n",
            "Epoch 40300 loss: 21.80077\n",
            "Epoch 40400 loss: 21.80076\n",
            "Epoch 40500 loss: 21.80075\n",
            "Epoch 40600 loss: 21.80074\n",
            "Epoch 40700 loss: 21.80072\n",
            "Epoch 40800 loss: 21.80072\n",
            "Epoch 40900 loss: 21.80070\n",
            "Epoch 41000 loss: 21.80070\n",
            "Epoch 41100 loss: 21.80068\n",
            "Epoch 41200 loss: 21.80068\n",
            "Epoch 41300 loss: 21.80067\n",
            "Epoch 41400 loss: 21.80065\n",
            "Epoch 41500 loss: 21.80065\n",
            "Epoch 41600 loss: 21.80064\n",
            "Epoch 41700 loss: 21.80063\n",
            "Epoch 41800 loss: 21.80062\n",
            "Epoch 41900 loss: 21.80061\n",
            "Epoch 42000 loss: 21.80061\n",
            "Epoch 42100 loss: 21.80060\n",
            "Epoch 42200 loss: 21.80059\n",
            "Epoch 42300 loss: 21.80058\n",
            "Epoch 42400 loss: 21.80058\n",
            "Epoch 42500 loss: 21.80057\n",
            "Epoch 42600 loss: 21.80056\n",
            "Epoch 42700 loss: 21.80055\n",
            "Epoch 42800 loss: 21.80055\n",
            "Epoch 42900 loss: 21.80054\n",
            "Epoch 43000 loss: 21.80054\n",
            "Epoch 43100 loss: 21.80053\n",
            "Epoch 43200 loss: 21.80052\n",
            "Epoch 43300 loss: 21.80052\n",
            "Epoch 43400 loss: 21.80051\n",
            "Epoch 43500 loss: 21.80051\n",
            "Epoch 43600 loss: 21.80050\n",
            "Epoch 43700 loss: 21.80050\n",
            "Epoch 43800 loss: 21.80049\n",
            "Epoch 43900 loss: 21.80048\n",
            "Epoch 44000 loss: 21.80048\n",
            "Epoch 44100 loss: 21.80048\n",
            "Epoch 44200 loss: 21.80047\n",
            "Epoch 44300 loss: 21.80046\n",
            "Epoch 44400 loss: 21.80046\n",
            "Epoch 44500 loss: 21.80046\n",
            "Epoch 44600 loss: 21.80045\n",
            "Epoch 44700 loss: 21.80045\n",
            "Epoch 44800 loss: 21.80045\n",
            "Epoch 44900 loss: 21.80044\n",
            "Epoch 45000 loss: 21.80044\n",
            "Epoch 45100 loss: 21.80043\n",
            "Epoch 45200 loss: 21.80043\n",
            "Epoch 45300 loss: 21.80043\n",
            "Epoch 45400 loss: 21.80042\n",
            "Epoch 45500 loss: 21.80042\n",
            "Epoch 45600 loss: 21.80042\n",
            "Epoch 45700 loss: 21.80041\n",
            "Epoch 45800 loss: 21.80041\n",
            "Epoch 45900 loss: 21.80041\n",
            "Epoch 46000 loss: 21.80040\n",
            "Epoch 46100 loss: 21.80040\n",
            "Epoch 46200 loss: 21.80040\n",
            "Epoch 46300 loss: 21.80039\n",
            "Epoch 46400 loss: 21.80039\n",
            "Epoch 46500 loss: 21.80039\n",
            "Epoch 46600 loss: 21.80039\n",
            "Epoch 46700 loss: 21.80038\n",
            "Epoch 46800 loss: 21.80038\n",
            "Epoch 46900 loss: 21.80038\n",
            "Epoch 47000 loss: 21.80038\n",
            "Epoch 47100 loss: 21.80037\n",
            "Epoch 47200 loss: 21.80037\n",
            "Epoch 47300 loss: 21.80037\n",
            "Epoch 47400 loss: 21.80037\n",
            "Epoch 47500 loss: 21.80036\n",
            "Epoch 47600 loss: 21.80036\n",
            "Epoch 47700 loss: 21.80036\n",
            "Epoch 47800 loss: 21.80036\n",
            "Epoch 47900 loss: 21.80035\n",
            "Epoch 48000 loss: 21.80035\n",
            "Epoch 48100 loss: 21.80035\n",
            "Epoch 48200 loss: 21.80035\n",
            "Epoch 48300 loss: 21.80035\n",
            "Epoch 48400 loss: 21.80035\n",
            "Epoch 48500 loss: 21.80034\n",
            "Epoch 48600 loss: 21.80034\n",
            "Epoch 48700 loss: 21.80034\n",
            "Epoch 48800 loss: 21.80034\n",
            "Epoch 48900 loss: 21.80034\n",
            "Epoch 49000 loss: 21.80034\n",
            "Epoch 49100 loss: 21.80034\n",
            "Epoch 49200 loss: 21.80033\n",
            "Epoch 49300 loss: 21.80033\n",
            "Epoch 49400 loss: 21.80033\n",
            "Epoch 49500 loss: 21.80033\n",
            "Epoch 49600 loss: 21.80033\n",
            "Epoch 49700 loss: 21.80033\n",
            "Epoch 49800 loss: 21.80033\n",
            "Epoch 49900 loss: 21.80033\n"
          ]
        }
      ]
    },
    {
      "cell_type": "markdown",
      "source": [
        "#結果確認"
      ],
      "metadata": {
        "id": "8nDMBToi75jd"
      }
    },
    {
      "cell_type": "code",
      "source": [
        "# 損失初期値と最終値\n",
        "\n",
        "print(f'損失初期値: {history[0,1]:.5f}')\n",
        "print(f'損失最終値: {history[-1,1]:.5f}')\n",
        "\n",
        "# 学習曲線の表示 (損失) \n",
        "# 最初の1つを除く\n",
        "\n",
        "plt.plot(history[1:,0], history[1:,1], 'b')\n",
        "plt.xlabel('繰り返し回数')\n",
        "plt.ylabel('損失')\n",
        "plt.title('学習曲線(損失)')\n",
        "plt.show()\n",
        "\n",
        "# 回帰直線の算出\n",
        "\n",
        "# xの最小値、最大値\n",
        "xse = np.array((x.min(), x.max())).reshape(-1,1)\n",
        "Xse = torch.tensor(xse).float()\n",
        "\n",
        "with torch.no_grad():\n",
        "  Yse = net(Xse)\n",
        "\n",
        "print(Yse.numpy())\n",
        "\n",
        "# 散布図と回帰直線の描画\n",
        "\n",
        "plt.scatter(x, yt, s=10, c='b')\n",
        "plt.xlabel('部屋数')\n",
        "plt.ylabel('価格')\n",
        "plt.plot(Xse.data, Yse.data, c='k')\n",
        "plt.title('散布図と回帰直線')\n",
        "plt.show()"
      ],
      "metadata": {
        "colab": {
          "base_uri": "https://localhost:8080/",
          "height": 642
        },
        "id": "-jv87vBj8N6L",
        "outputId": "1cd3725a-1ca9-4908-a73c-abdeef33aaf4"
      },
      "execution_count": 30,
      "outputs": [
        {
          "output_type": "stream",
          "name": "stdout",
          "text": [
            "損失初期値: 154.22493\n",
            "損失最終値: 21.80033\n"
          ]
        },
        {
          "output_type": "display_data",
          "data": {
            "text/plain": [
              "<Figure size 432x288 with 1 Axes>"
            ],
            "image/png": "[encoded data removed]"
          },
          "metadata": {
            "needs_background": "light"
          }
        },
        {
          "output_type": "stream",
          "name": "stdout",
          "text": [
            "[[-2.2189]\n",
            " [45.2121]]\n"
          ]
        },
        {
          "output_type": "display_data",
          "data": {
            "text/plain": [
              "<Figure size 432x288 with 1 Axes>"
            ],
            "image/png": "[encoded data removed]"
          },
          "metadata": {
            "needs_background": "light"
          }
        }
      ]
    },
    {
      "cell_type": "markdown",
      "source": [
        "##重回帰モデルへの拡張\n",
        "\n",
        "前回に新しい項目LSTATを追加し、2入力とします。\n",
        "\n",
        "まずは列の追加"
      ],
      "metadata": {
        "id": "UlREDUbz9YnG"
      }
    },
    {
      "cell_type": "code",
      "source": [
        "# 列(LSTAT: 低所得者率)の追加\n",
        "\n",
        "x_add = x_org[:,feature_names == 'LSTAT']\n",
        "x2 = np.hstack((x, x_add))\n",
        "\n",
        "# shapeの表示\n",
        "print(x2.shape)\n",
        "\n",
        "# 入力データxの表示\n",
        "print(x2[:5,:])"
      ],
      "metadata": {
        "colab": {
          "base_uri": "https://localhost:8080/"
        },
        "id": "t0y1VAGx-YMO",
        "outputId": "1e6ca051-5a05-444f-ca81-f51c2073c727"
      },
      "execution_count": 31,
      "outputs": [
        {
          "output_type": "stream",
          "name": "stdout",
          "text": [
            "(506, 2)\n",
            "[[6.575 4.98 ]\n",
            " [6.421 9.14 ]\n",
            " [7.185 4.03 ]\n",
            " [6.998 2.94 ]\n",
            " [7.147 5.33 ]]\n"
          ]
        }
      ]
    },
    {
      "cell_type": "markdown",
      "source": [
        "今度は入力データの次元数n_inputは２になります。\n",
        "この値で、モデルインスタンスを生成し直します。"
      ],
      "metadata": {
        "id": "6Lyo8y2j-sVO"
      }
    },
    {
      "cell_type": "code",
      "source": [
        "# 今度は入力次元数=2\n",
        "\n",
        "n_input = x2.shape[1]\n",
        "print(n_input)\n",
        "\n",
        "# モデルインスタンスの生成\n",
        "net = Net(n_input, n_output)"
      ],
      "metadata": {
        "colab": {
          "base_uri": "https://localhost:8080/"
        },
        "id": "h5uLT-yF_Soy",
        "outputId": "ba0e670f-6ab0-4b0d-e0b3-f313b5af9372"
      },
      "execution_count": 32,
      "outputs": [
        {
          "output_type": "stream",
          "name": "stdout",
          "text": [
            "2\n"
          ]
        }
      ]
    },
    {
      "cell_type": "markdown",
      "source": [
        "インスタンス変数がどう変わったか、いくつかの方法で確かめます。"
      ],
      "metadata": {
        "id": "zTibcs-uOSRr"
      }
    },
    {
      "cell_type": "code",
      "source": [
        "# モデル内のパラメータの確認\n",
        "# predict.weight が2次元に変わった\n",
        "\n",
        "for parameter in net.named_parameters():\n",
        "    print(f'変数名: {parameter[0]}')\n",
        "    print(f'変数値: {parameter[1].data}')"
      ],
      "metadata": {
        "colab": {
          "base_uri": "https://localhost:8080/"
        },
        "id": "ONxQfSwdOcof",
        "outputId": "aeec0432-20c4-46cc-ed1b-f2c757e6eefd"
      },
      "execution_count": 33,
      "outputs": [
        {
          "output_type": "stream",
          "name": "stdout",
          "text": [
            "変数名: l1.weight\n",
            "変数値: tensor([[1., 1.]])\n",
            "変数名: l1.bias\n",
            "変数値: tensor([1.])\n"
          ]
        }
      ]
    },
    {
      "cell_type": "markdown",
      "source": [
        "weightが二個に増えています"
      ],
      "metadata": {
        "id": "p54ZMNXOOyKn"
      }
    },
    {
      "cell_type": "code",
      "source": [
        "# モデルの概要表示\n",
        "\n",
        "print(net)"
      ],
      "metadata": {
        "colab": {
          "base_uri": "https://localhost:8080/"
        },
        "id": "DCLlkmNwO2lH",
        "outputId": "e53b233f-c28d-43fc-e984-ffe88c140cc5"
      },
      "execution_count": 35,
      "outputs": [
        {
          "output_type": "stream",
          "name": "stdout",
          "text": [
            "Net(\n",
            "  (l1): Linear(in_features=2, out_features=1, bias=True)\n",
            ")\n"
          ]
        }
      ]
    },
    {
      "cell_type": "markdown",
      "source": [
        "in_featuresが二個に増えています。"
      ],
      "metadata": {
        "id": "vJxXga2HO5pp"
      }
    },
    {
      "cell_type": "code",
      "source": [
        "# モデルのサマリー表示\n",
        "\n",
        "from torchinfo import summary\n",
        "summary(net, (2,))"
      ],
      "metadata": {
        "colab": {
          "base_uri": "https://localhost:8080/"
        },
        "id": "LM6ziLdMPDln",
        "outputId": "adb01a12-f94a-4004-cf4a-ac7ea6254ef3"
      },
      "execution_count": 36,
      "outputs": [
        {
          "output_type": "execute_result",
          "data": {
            "text/plain": [
              "==========================================================================================\n",
              "Layer (type:depth-idx)                   Output Shape              Param #\n",
              "==========================================================================================\n",
              "Net                                      --                        --\n",
              "├─Linear: 1-1                            [1]                       3\n",
              "==========================================================================================\n",
              "Total params: 3\n",
              "Trainable params: 3\n",
              "Non-trainable params: 0\n",
              "Total mult-adds (M): 0.00\n",
              "==========================================================================================\n",
              "Input size (MB): 0.00\n",
              "Forward/backward pass size (MB): 0.00\n",
              "Params size (MB): 0.00\n",
              "Estimated Total Size (MB): 0.00\n",
              "=========================================================================================="
            ]
          },
          "metadata": {},
          "execution_count": 36
        }
      ]
    },
    {
      "cell_type": "markdown",
      "source": [
        "paramsが三個に増えています。（wightが二個、biasが一個）"
      ],
      "metadata": {
        "id": "9vuc1ZQaPGao"
      }
    },
    {
      "cell_type": "markdown",
      "source": [
        "次は新しい入力変数ｘ2を改めてinputsに定義します。"
      ],
      "metadata": {
        "id": "bC12f_i3PgQw"
      }
    },
    {
      "cell_type": "code",
      "source": [
        "# 入力変数x2 のテンソル変数化 \n",
        "# labels, labels1は前のものをそのまま利用\n",
        "\n",
        "inputs = torch.tensor(x2).float()"
      ],
      "metadata": {
        "id": "80KQHcOPP17j"
      },
      "execution_count": 37,
      "outputs": []
    },
    {
      "cell_type": "markdown",
      "source": [
        "これで準備完了です、繰り返しの処理を単回帰と同じく行います。"
      ],
      "metadata": {
        "id": "wTtokDFCP63P"
      }
    },
    {
      "cell_type": "code",
      "source": [
        "# 初期化処理\n",
        "\n",
        "# 学習率\n",
        "lr = 0.01\n",
        "\n",
        "# インスタンス生成　(パラメータ値初期化)\n",
        "net = Net(n_input, n_output)\n",
        "\n",
        "# 損失関数： 平均2乗誤差\n",
        "criterion = nn.MSELoss()\n",
        "\n",
        "# 最適化関数: 勾配降下法\n",
        "optimizer = optim.SGD(net.parameters(), lr=lr)\n",
        "\n",
        "# 繰り返し回数\n",
        "num_epochs = 50000\n",
        "\n",
        "# 評価結果記録用 (損失関数値のみ記録)\n",
        "history = np.zeros((0,2))\n",
        "\n",
        "# 繰り返し計算メインループ\n",
        "\n",
        "for epoch in range(num_epochs):\n",
        "    \n",
        "    # 勾配値初期化\n",
        "    optimizer.zero_grad()\n",
        "\n",
        "    # 予測計算\n",
        "    outputs = net(inputs)\n",
        "  \n",
        "    # 誤差計算\n",
        "    # 「ディープラーニングの数学」に合わせて2で割った値を損失とした\n",
        "    loss = criterion(outputs, labels1) / 2.0\n",
        "\n",
        "    # 勾配計算\n",
        "    loss.backward()\n",
        "\n",
        "    # パラメータ修正\n",
        "    optimizer.step()\n",
        "\n",
        "    # 100回ごとに途中経過を記録する\n",
        "    if ( epoch % 100 == 0):\n",
        "        history = np.vstack((history, np.array([epoch, loss.item()])))\n",
        "        print(f'Epoch {epoch} loss: {loss.item():.5f}')"
      ],
      "metadata": {
        "colab": {
          "base_uri": "https://localhost:8080/"
        },
        "id": "eF5x3KlYQFgM",
        "outputId": "3f97bd5b-6d05-4dc9-a18b-2981444a0f1f"
      },
      "execution_count": 41,
      "outputs": [
        {
          "output_type": "stream",
          "name": "stdout",
          "text": [
            "Epoch 0 loss: 112.06398\n",
            "Epoch 100 loss: 3753837073642659568666615480320.00000\n",
            "Epoch 200 loss: inf\n",
            "Epoch 300 loss: nan\n",
            "Epoch 400 loss: nan\n",
            "Epoch 500 loss: nan\n",
            "Epoch 600 loss: nan\n",
            "Epoch 700 loss: nan\n",
            "Epoch 800 loss: nan\n",
            "Epoch 900 loss: nan\n",
            "Epoch 1000 loss: nan\n",
            "Epoch 1100 loss: nan\n",
            "Epoch 1200 loss: nan\n",
            "Epoch 1300 loss: nan\n",
            "Epoch 1400 loss: nan\n",
            "Epoch 1500 loss: nan\n",
            "Epoch 1600 loss: nan\n",
            "Epoch 1700 loss: nan\n",
            "Epoch 1800 loss: nan\n",
            "Epoch 1900 loss: nan\n",
            "Epoch 2000 loss: nan\n",
            "Epoch 2100 loss: nan\n",
            "Epoch 2200 loss: nan\n",
            "Epoch 2300 loss: nan\n",
            "Epoch 2400 loss: nan\n",
            "Epoch 2500 loss: nan\n",
            "Epoch 2600 loss: nan\n",
            "Epoch 2700 loss: nan\n",
            "Epoch 2800 loss: nan\n",
            "Epoch 2900 loss: nan\n",
            "Epoch 3000 loss: nan\n",
            "Epoch 3100 loss: nan\n",
            "Epoch 3200 loss: nan\n",
            "Epoch 3300 loss: nan\n",
            "Epoch 3400 loss: nan\n",
            "Epoch 3500 loss: nan\n",
            "Epoch 3600 loss: nan\n",
            "Epoch 3700 loss: nan\n",
            "Epoch 3800 loss: nan\n",
            "Epoch 3900 loss: nan\n",
            "Epoch 4000 loss: nan\n",
            "Epoch 4100 loss: nan\n",
            "Epoch 4200 loss: nan\n",
            "Epoch 4300 loss: nan\n",
            "Epoch 4400 loss: nan\n",
            "Epoch 4500 loss: nan\n",
            "Epoch 4600 loss: nan\n",
            "Epoch 4700 loss: nan\n",
            "Epoch 4800 loss: nan\n",
            "Epoch 4900 loss: nan\n",
            "Epoch 5000 loss: nan\n",
            "Epoch 5100 loss: nan\n",
            "Epoch 5200 loss: nan\n",
            "Epoch 5300 loss: nan\n",
            "Epoch 5400 loss: nan\n",
            "Epoch 5500 loss: nan\n",
            "Epoch 5600 loss: nan\n",
            "Epoch 5700 loss: nan\n",
            "Epoch 5800 loss: nan\n",
            "Epoch 5900 loss: nan\n",
            "Epoch 6000 loss: nan\n",
            "Epoch 6100 loss: nan\n",
            "Epoch 6200 loss: nan\n",
            "Epoch 6300 loss: nan\n",
            "Epoch 6400 loss: nan\n",
            "Epoch 6500 loss: nan\n",
            "Epoch 6600 loss: nan\n",
            "Epoch 6700 loss: nan\n",
            "Epoch 6800 loss: nan\n",
            "Epoch 6900 loss: nan\n",
            "Epoch 7000 loss: nan\n",
            "Epoch 7100 loss: nan\n",
            "Epoch 7200 loss: nan\n",
            "Epoch 7300 loss: nan\n",
            "Epoch 7400 loss: nan\n",
            "Epoch 7500 loss: nan\n",
            "Epoch 7600 loss: nan\n",
            "Epoch 7700 loss: nan\n",
            "Epoch 7800 loss: nan\n",
            "Epoch 7900 loss: nan\n",
            "Epoch 8000 loss: nan\n",
            "Epoch 8100 loss: nan\n",
            "Epoch 8200 loss: nan\n",
            "Epoch 8300 loss: nan\n",
            "Epoch 8400 loss: nan\n",
            "Epoch 8500 loss: nan\n",
            "Epoch 8600 loss: nan\n",
            "Epoch 8700 loss: nan\n",
            "Epoch 8800 loss: nan\n",
            "Epoch 8900 loss: nan\n",
            "Epoch 9000 loss: nan\n",
            "Epoch 9100 loss: nan\n",
            "Epoch 9200 loss: nan\n",
            "Epoch 9300 loss: nan\n",
            "Epoch 9400 loss: nan\n",
            "Epoch 9500 loss: nan\n",
            "Epoch 9600 loss: nan\n",
            "Epoch 9700 loss: nan\n",
            "Epoch 9800 loss: nan\n",
            "Epoch 9900 loss: nan\n",
            "Epoch 10000 loss: nan\n",
            "Epoch 10100 loss: nan\n",
            "Epoch 10200 loss: nan\n",
            "Epoch 10300 loss: nan\n",
            "Epoch 10400 loss: nan\n",
            "Epoch 10500 loss: nan\n",
            "Epoch 10600 loss: nan\n",
            "Epoch 10700 loss: nan\n",
            "Epoch 10800 loss: nan\n",
            "Epoch 10900 loss: nan\n",
            "Epoch 11000 loss: nan\n",
            "Epoch 11100 loss: nan\n",
            "Epoch 11200 loss: nan\n",
            "Epoch 11300 loss: nan\n",
            "Epoch 11400 loss: nan\n",
            "Epoch 11500 loss: nan\n",
            "Epoch 11600 loss: nan\n",
            "Epoch 11700 loss: nan\n",
            "Epoch 11800 loss: nan\n",
            "Epoch 11900 loss: nan\n",
            "Epoch 12000 loss: nan\n",
            "Epoch 12100 loss: nan\n",
            "Epoch 12200 loss: nan\n",
            "Epoch 12300 loss: nan\n",
            "Epoch 12400 loss: nan\n",
            "Epoch 12500 loss: nan\n",
            "Epoch 12600 loss: nan\n",
            "Epoch 12700 loss: nan\n",
            "Epoch 12800 loss: nan\n",
            "Epoch 12900 loss: nan\n",
            "Epoch 13000 loss: nan\n",
            "Epoch 13100 loss: nan\n",
            "Epoch 13200 loss: nan\n",
            "Epoch 13300 loss: nan\n",
            "Epoch 13400 loss: nan\n",
            "Epoch 13500 loss: nan\n",
            "Epoch 13600 loss: nan\n",
            "Epoch 13700 loss: nan\n",
            "Epoch 13800 loss: nan\n",
            "Epoch 13900 loss: nan\n",
            "Epoch 14000 loss: nan\n",
            "Epoch 14100 loss: nan\n",
            "Epoch 14200 loss: nan\n",
            "Epoch 14300 loss: nan\n",
            "Epoch 14400 loss: nan\n",
            "Epoch 14500 loss: nan\n",
            "Epoch 14600 loss: nan\n",
            "Epoch 14700 loss: nan\n",
            "Epoch 14800 loss: nan\n",
            "Epoch 14900 loss: nan\n",
            "Epoch 15000 loss: nan\n",
            "Epoch 15100 loss: nan\n",
            "Epoch 15200 loss: nan\n",
            "Epoch 15300 loss: nan\n",
            "Epoch 15400 loss: nan\n",
            "Epoch 15500 loss: nan\n",
            "Epoch 15600 loss: nan\n",
            "Epoch 15700 loss: nan\n",
            "Epoch 15800 loss: nan\n",
            "Epoch 15900 loss: nan\n",
            "Epoch 16000 loss: nan\n",
            "Epoch 16100 loss: nan\n",
            "Epoch 16200 loss: nan\n",
            "Epoch 16300 loss: nan\n",
            "Epoch 16400 loss: nan\n",
            "Epoch 16500 loss: nan\n",
            "Epoch 16600 loss: nan\n",
            "Epoch 16700 loss: nan\n",
            "Epoch 16800 loss: nan\n",
            "Epoch 16900 loss: nan\n",
            "Epoch 17000 loss: nan\n",
            "Epoch 17100 loss: nan\n",
            "Epoch 17200 loss: nan\n",
            "Epoch 17300 loss: nan\n",
            "Epoch 17400 loss: nan\n",
            "Epoch 17500 loss: nan\n",
            "Epoch 17600 loss: nan\n",
            "Epoch 17700 loss: nan\n",
            "Epoch 17800 loss: nan\n",
            "Epoch 17900 loss: nan\n",
            "Epoch 18000 loss: nan\n",
            "Epoch 18100 loss: nan\n",
            "Epoch 18200 loss: nan\n",
            "Epoch 18300 loss: nan\n",
            "Epoch 18400 loss: nan\n",
            "Epoch 18500 loss: nan\n",
            "Epoch 18600 loss: nan\n",
            "Epoch 18700 loss: nan\n",
            "Epoch 18800 loss: nan\n",
            "Epoch 18900 loss: nan\n",
            "Epoch 19000 loss: nan\n",
            "Epoch 19100 loss: nan\n",
            "Epoch 19200 loss: nan\n",
            "Epoch 19300 loss: nan\n",
            "Epoch 19400 loss: nan\n",
            "Epoch 19500 loss: nan\n",
            "Epoch 19600 loss: nan\n",
            "Epoch 19700 loss: nan\n",
            "Epoch 19800 loss: nan\n",
            "Epoch 19900 loss: nan\n",
            "Epoch 20000 loss: nan\n",
            "Epoch 20100 loss: nan\n",
            "Epoch 20200 loss: nan\n",
            "Epoch 20300 loss: nan\n",
            "Epoch 20400 loss: nan\n",
            "Epoch 20500 loss: nan\n",
            "Epoch 20600 loss: nan\n",
            "Epoch 20700 loss: nan\n",
            "Epoch 20800 loss: nan\n",
            "Epoch 20900 loss: nan\n",
            "Epoch 21000 loss: nan\n",
            "Epoch 21100 loss: nan\n",
            "Epoch 21200 loss: nan\n",
            "Epoch 21300 loss: nan\n",
            "Epoch 21400 loss: nan\n",
            "Epoch 21500 loss: nan\n",
            "Epoch 21600 loss: nan\n",
            "Epoch 21700 loss: nan\n",
            "Epoch 21800 loss: nan\n",
            "Epoch 21900 loss: nan\n",
            "Epoch 22000 loss: nan\n",
            "Epoch 22100 loss: nan\n",
            "Epoch 22200 loss: nan\n",
            "Epoch 22300 loss: nan\n",
            "Epoch 22400 loss: nan\n",
            "Epoch 22500 loss: nan\n",
            "Epoch 22600 loss: nan\n",
            "Epoch 22700 loss: nan\n",
            "Epoch 22800 loss: nan\n",
            "Epoch 22900 loss: nan\n",
            "Epoch 23000 loss: nan\n",
            "Epoch 23100 loss: nan\n",
            "Epoch 23200 loss: nan\n",
            "Epoch 23300 loss: nan\n",
            "Epoch 23400 loss: nan\n",
            "Epoch 23500 loss: nan\n",
            "Epoch 23600 loss: nan\n",
            "Epoch 23700 loss: nan\n",
            "Epoch 23800 loss: nan\n",
            "Epoch 23900 loss: nan\n",
            "Epoch 24000 loss: nan\n",
            "Epoch 24100 loss: nan\n",
            "Epoch 24200 loss: nan\n",
            "Epoch 24300 loss: nan\n",
            "Epoch 24400 loss: nan\n",
            "Epoch 24500 loss: nan\n",
            "Epoch 24600 loss: nan\n",
            "Epoch 24700 loss: nan\n",
            "Epoch 24800 loss: nan\n",
            "Epoch 24900 loss: nan\n",
            "Epoch 25000 loss: nan\n",
            "Epoch 25100 loss: nan\n",
            "Epoch 25200 loss: nan\n",
            "Epoch 25300 loss: nan\n",
            "Epoch 25400 loss: nan\n",
            "Epoch 25500 loss: nan\n",
            "Epoch 25600 loss: nan\n",
            "Epoch 25700 loss: nan\n",
            "Epoch 25800 loss: nan\n",
            "Epoch 25900 loss: nan\n",
            "Epoch 26000 loss: nan\n",
            "Epoch 26100 loss: nan\n",
            "Epoch 26200 loss: nan\n",
            "Epoch 26300 loss: nan\n",
            "Epoch 26400 loss: nan\n",
            "Epoch 26500 loss: nan\n",
            "Epoch 26600 loss: nan\n",
            "Epoch 26700 loss: nan\n",
            "Epoch 26800 loss: nan\n",
            "Epoch 26900 loss: nan\n",
            "Epoch 27000 loss: nan\n",
            "Epoch 27100 loss: nan\n",
            "Epoch 27200 loss: nan\n",
            "Epoch 27300 loss: nan\n",
            "Epoch 27400 loss: nan\n",
            "Epoch 27500 loss: nan\n",
            "Epoch 27600 loss: nan\n",
            "Epoch 27700 loss: nan\n",
            "Epoch 27800 loss: nan\n",
            "Epoch 27900 loss: nan\n",
            "Epoch 28000 loss: nan\n",
            "Epoch 28100 loss: nan\n",
            "Epoch 28200 loss: nan\n",
            "Epoch 28300 loss: nan\n",
            "Epoch 28400 loss: nan\n",
            "Epoch 28500 loss: nan\n",
            "Epoch 28600 loss: nan\n",
            "Epoch 28700 loss: nan\n",
            "Epoch 28800 loss: nan\n",
            "Epoch 28900 loss: nan\n",
            "Epoch 29000 loss: nan\n",
            "Epoch 29100 loss: nan\n",
            "Epoch 29200 loss: nan\n",
            "Epoch 29300 loss: nan\n",
            "Epoch 29400 loss: nan\n",
            "Epoch 29500 loss: nan\n",
            "Epoch 29600 loss: nan\n",
            "Epoch 29700 loss: nan\n",
            "Epoch 29800 loss: nan\n",
            "Epoch 29900 loss: nan\n",
            "Epoch 30000 loss: nan\n",
            "Epoch 30100 loss: nan\n",
            "Epoch 30200 loss: nan\n",
            "Epoch 30300 loss: nan\n",
            "Epoch 30400 loss: nan\n",
            "Epoch 30500 loss: nan\n",
            "Epoch 30600 loss: nan\n",
            "Epoch 30700 loss: nan\n",
            "Epoch 30800 loss: nan\n",
            "Epoch 30900 loss: nan\n",
            "Epoch 31000 loss: nan\n",
            "Epoch 31100 loss: nan\n",
            "Epoch 31200 loss: nan\n",
            "Epoch 31300 loss: nan\n",
            "Epoch 31400 loss: nan\n",
            "Epoch 31500 loss: nan\n",
            "Epoch 31600 loss: nan\n",
            "Epoch 31700 loss: nan\n",
            "Epoch 31800 loss: nan\n",
            "Epoch 31900 loss: nan\n",
            "Epoch 32000 loss: nan\n",
            "Epoch 32100 loss: nan\n",
            "Epoch 32200 loss: nan\n",
            "Epoch 32300 loss: nan\n",
            "Epoch 32400 loss: nan\n",
            "Epoch 32500 loss: nan\n",
            "Epoch 32600 loss: nan\n",
            "Epoch 32700 loss: nan\n",
            "Epoch 32800 loss: nan\n",
            "Epoch 32900 loss: nan\n",
            "Epoch 33000 loss: nan\n",
            "Epoch 33100 loss: nan\n",
            "Epoch 33200 loss: nan\n",
            "Epoch 33300 loss: nan\n",
            "Epoch 33400 loss: nan\n",
            "Epoch 33500 loss: nan\n",
            "Epoch 33600 loss: nan\n",
            "Epoch 33700 loss: nan\n",
            "Epoch 33800 loss: nan\n",
            "Epoch 33900 loss: nan\n",
            "Epoch 34000 loss: nan\n",
            "Epoch 34100 loss: nan\n",
            "Epoch 34200 loss: nan\n",
            "Epoch 34300 loss: nan\n",
            "Epoch 34400 loss: nan\n",
            "Epoch 34500 loss: nan\n",
            "Epoch 34600 loss: nan\n",
            "Epoch 34700 loss: nan\n",
            "Epoch 34800 loss: nan\n",
            "Epoch 34900 loss: nan\n",
            "Epoch 35000 loss: nan\n",
            "Epoch 35100 loss: nan\n",
            "Epoch 35200 loss: nan\n",
            "Epoch 35300 loss: nan\n",
            "Epoch 35400 loss: nan\n",
            "Epoch 35500 loss: nan\n",
            "Epoch 35600 loss: nan\n",
            "Epoch 35700 loss: nan\n",
            "Epoch 35800 loss: nan\n",
            "Epoch 35900 loss: nan\n",
            "Epoch 36000 loss: nan\n",
            "Epoch 36100 loss: nan\n",
            "Epoch 36200 loss: nan\n",
            "Epoch 36300 loss: nan\n",
            "Epoch 36400 loss: nan\n",
            "Epoch 36500 loss: nan\n",
            "Epoch 36600 loss: nan\n",
            "Epoch 36700 loss: nan\n",
            "Epoch 36800 loss: nan\n",
            "Epoch 36900 loss: nan\n",
            "Epoch 37000 loss: nan\n",
            "Epoch 37100 loss: nan\n",
            "Epoch 37200 loss: nan\n",
            "Epoch 37300 loss: nan\n",
            "Epoch 37400 loss: nan\n",
            "Epoch 37500 loss: nan\n",
            "Epoch 37600 loss: nan\n",
            "Epoch 37700 loss: nan\n",
            "Epoch 37800 loss: nan\n",
            "Epoch 37900 loss: nan\n",
            "Epoch 38000 loss: nan\n",
            "Epoch 38100 loss: nan\n",
            "Epoch 38200 loss: nan\n",
            "Epoch 38300 loss: nan\n",
            "Epoch 38400 loss: nan\n",
            "Epoch 38500 loss: nan\n",
            "Epoch 38600 loss: nan\n",
            "Epoch 38700 loss: nan\n",
            "Epoch 38800 loss: nan\n",
            "Epoch 38900 loss: nan\n",
            "Epoch 39000 loss: nan\n",
            "Epoch 39100 loss: nan\n",
            "Epoch 39200 loss: nan\n",
            "Epoch 39300 loss: nan\n",
            "Epoch 39400 loss: nan\n",
            "Epoch 39500 loss: nan\n",
            "Epoch 39600 loss: nan\n",
            "Epoch 39700 loss: nan\n",
            "Epoch 39800 loss: nan\n",
            "Epoch 39900 loss: nan\n",
            "Epoch 40000 loss: nan\n",
            "Epoch 40100 loss: nan\n",
            "Epoch 40200 loss: nan\n",
            "Epoch 40300 loss: nan\n",
            "Epoch 40400 loss: nan\n",
            "Epoch 40500 loss: nan\n",
            "Epoch 40600 loss: nan\n",
            "Epoch 40700 loss: nan\n",
            "Epoch 40800 loss: nan\n",
            "Epoch 40900 loss: nan\n",
            "Epoch 41000 loss: nan\n",
            "Epoch 41100 loss: nan\n",
            "Epoch 41200 loss: nan\n",
            "Epoch 41300 loss: nan\n",
            "Epoch 41400 loss: nan\n",
            "Epoch 41500 loss: nan\n",
            "Epoch 41600 loss: nan\n",
            "Epoch 41700 loss: nan\n",
            "Epoch 41800 loss: nan\n",
            "Epoch 41900 loss: nan\n",
            "Epoch 42000 loss: nan\n",
            "Epoch 42100 loss: nan\n",
            "Epoch 42200 loss: nan\n",
            "Epoch 42300 loss: nan\n",
            "Epoch 42400 loss: nan\n",
            "Epoch 42500 loss: nan\n",
            "Epoch 42600 loss: nan\n",
            "Epoch 42700 loss: nan\n",
            "Epoch 42800 loss: nan\n",
            "Epoch 42900 loss: nan\n",
            "Epoch 43000 loss: nan\n",
            "Epoch 43100 loss: nan\n",
            "Epoch 43200 loss: nan\n",
            "Epoch 43300 loss: nan\n",
            "Epoch 43400 loss: nan\n",
            "Epoch 43500 loss: nan\n",
            "Epoch 43600 loss: nan\n",
            "Epoch 43700 loss: nan\n",
            "Epoch 43800 loss: nan\n",
            "Epoch 43900 loss: nan\n",
            "Epoch 44000 loss: nan\n",
            "Epoch 44100 loss: nan\n",
            "Epoch 44200 loss: nan\n",
            "Epoch 44300 loss: nan\n",
            "Epoch 44400 loss: nan\n",
            "Epoch 44500 loss: nan\n",
            "Epoch 44600 loss: nan\n",
            "Epoch 44700 loss: nan\n",
            "Epoch 44800 loss: nan\n",
            "Epoch 44900 loss: nan\n",
            "Epoch 45000 loss: nan\n",
            "Epoch 45100 loss: nan\n",
            "Epoch 45200 loss: nan\n",
            "Epoch 45300 loss: nan\n",
            "Epoch 45400 loss: nan\n",
            "Epoch 45500 loss: nan\n",
            "Epoch 45600 loss: nan\n",
            "Epoch 45700 loss: nan\n",
            "Epoch 45800 loss: nan\n",
            "Epoch 45900 loss: nan\n",
            "Epoch 46000 loss: nan\n",
            "Epoch 46100 loss: nan\n",
            "Epoch 46200 loss: nan\n",
            "Epoch 46300 loss: nan\n",
            "Epoch 46400 loss: nan\n",
            "Epoch 46500 loss: nan\n",
            "Epoch 46600 loss: nan\n",
            "Epoch 46700 loss: nan\n",
            "Epoch 46800 loss: nan\n",
            "Epoch 46900 loss: nan\n",
            "Epoch 47000 loss: nan\n",
            "Epoch 47100 loss: nan\n",
            "Epoch 47200 loss: nan\n",
            "Epoch 47300 loss: nan\n",
            "Epoch 47400 loss: nan\n",
            "Epoch 47500 loss: nan\n",
            "Epoch 47600 loss: nan\n",
            "Epoch 47700 loss: nan\n",
            "Epoch 47800 loss: nan\n",
            "Epoch 47900 loss: nan\n",
            "Epoch 48000 loss: nan\n",
            "Epoch 48100 loss: nan\n",
            "Epoch 48200 loss: nan\n",
            "Epoch 48300 loss: nan\n",
            "Epoch 48400 loss: nan\n",
            "Epoch 48500 loss: nan\n",
            "Epoch 48600 loss: nan\n",
            "Epoch 48700 loss: nan\n",
            "Epoch 48800 loss: nan\n",
            "Epoch 48900 loss: nan\n",
            "Epoch 49000 loss: nan\n",
            "Epoch 49100 loss: nan\n",
            "Epoch 49200 loss: nan\n",
            "Epoch 49300 loss: nan\n",
            "Epoch 49400 loss: nan\n",
            "Epoch 49500 loss: nan\n",
            "Epoch 49600 loss: nan\n",
            "Epoch 49700 loss: nan\n",
            "Epoch 49800 loss: nan\n",
            "Epoch 49900 loss: nan\n"
          ]
        }
      ]
    },
    {
      "cell_type": "markdown",
      "source": [
        "欠損関数の値がinf→nanになってしまいます。これは欠損関数の値が発散して繰り返しの計算がうまくできなかったことを意味します。\n",
        "\n",
        "結論から行くと今回の学習率が大きすぎたことが原因でした。"
      ],
      "metadata": {
        "id": "c0qBdN5DQTOP"
      }
    },
    {
      "cell_type": "markdown",
      "source": [
        "#学習率の変更\n",
        "\n",
        "学習率lrを小さくして、繰り返しの回数を減らしました"
      ],
      "metadata": {
        "id": "ysYYY3VCQ_mF"
      }
    },
    {
      "cell_type": "code",
      "source": [
        "# 繰り返し回数\n",
        "#num_epochs = 50000\n",
        "num_epochs = 2000\n",
        "\n",
        "# 学習率\n",
        "#l r = 0.01\n",
        "lr = 0.001\n",
        "\n",
        "# モデルインスタンスの生成\n",
        "net = Net(n_input, n_output)\n",
        "\n",
        "# 損失関数： 平均2乗誤差\n",
        "criterion = nn.MSELoss()\n",
        "\n",
        "# 最適化関数: 勾配降下法\n",
        "optimizer = optim.SGD(net.parameters(), lr=lr)\n",
        "\n",
        "# 繰り返し計算メインループ\n",
        "\n",
        "# 評価結果記録用 (損失関数値のみ記録)\n",
        "history = np.zeros((0,2))\n",
        "\n",
        "for epoch in range(num_epochs):\n",
        "    \n",
        "    # 勾配値初期化\n",
        "    optimizer.zero_grad()\n",
        "\n",
        "    # 予測計算\n",
        "    outputs = net(inputs)\n",
        "  \n",
        "    # 誤差計算\n",
        "    loss = criterion(outputs, labels1) / 2.0\n",
        "\n",
        "    #勾配計算\n",
        "    loss.backward()\n",
        "\n",
        "    # パラメータ修正\n",
        "    optimizer.step()\n",
        "\n",
        "    # 100回ごとに途中経過を記録する\n",
        "    if ( epoch % 100 == 0):\n",
        "        history = np.vstack((history, np.array([epoch, loss.item()])))\n",
        "        print(f'Epoch {epoch} loss: {loss.item():.5f}')\n",
        "\n",
        "# 損失初期値、最終値\n",
        "\n",
        "print(f'損失初期値: {history[0,1]:.5f}')\n",
        "print(f'損失最終値: {history[-1,1]:.5f}')\n",
        "\n",
        "# 学習曲線の表示 (損失)\n",
        "\n",
        "plt.plot(history[:,0], history[:,1], 'b')\n",
        "plt.xlabel('繰り返し回数')\n",
        "plt.ylabel('損失')\n",
        "plt.title('学習曲線(損失)')\n",
        "plt.show()\n"
      ],
      "metadata": {
        "colab": {
          "base_uri": "https://localhost:8080/",
          "height": 690
        },
        "id": "qBVsi8BIRLC2",
        "outputId": "29d89ea7-8d7d-4251-aeab-d29ed2e34476"
      },
      "execution_count": 42,
      "outputs": [
        {
          "output_type": "stream",
          "name": "stdout",
          "text": [
            "Epoch 0 loss: 112.06398\n",
            "Epoch 100 loss: 25.35892\n",
            "Epoch 200 loss: 16.39105\n",
            "Epoch 300 loss: 15.40301\n",
            "Epoch 400 loss: 15.29414\n",
            "Epoch 500 loss: 15.28211\n",
            "Epoch 600 loss: 15.28076\n",
            "Epoch 700 loss: 15.28059\n",
            "Epoch 800 loss: 15.28054\n",
            "Epoch 900 loss: 15.28051\n",
            "Epoch 1000 loss: 15.28048\n",
            "Epoch 1100 loss: 15.28046\n",
            "Epoch 1200 loss: 15.28043\n",
            "Epoch 1300 loss: 15.28040\n",
            "Epoch 1400 loss: 15.28037\n",
            "Epoch 1500 loss: 15.28034\n",
            "Epoch 1600 loss: 15.28031\n",
            "Epoch 1700 loss: 15.28028\n",
            "Epoch 1800 loss: 15.28026\n",
            "Epoch 1900 loss: 15.28023\n",
            "損失初期値: 112.06398\n",
            "損失最終値: 15.28023\n"
          ]
        },
        {
          "output_type": "display_data",
          "data": {
            "text/plain": [
              "<Figure size 432x288 with 1 Axes>"
            ],
            "image/png": "[encoded data removed]"
          },
          "metadata": {
            "needs_background": "light"
          }
        }
      ]
    },
    {
      "cell_type": "markdown",
      "source": [
        "前回に比べて欠損が減っているので今回のほうが良いことがわかりました。"
      ],
      "metadata": {
        "id": "tGEkuIQPSLZZ"
      }
    }
  ]
}